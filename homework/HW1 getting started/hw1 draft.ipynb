{
 "cells": [
  {
   "cell_type": "markdown",
   "metadata": {},
   "source": [
    "Before you turn this problem in, make sure everything runs as expected. First, **restart the kernel** (in the menubar, select Kernel$\\rightarrow$Restart) and then **run all cells** (in the menubar, select Cell$\\rightarrow$Run All).\n",
    "\n",
    "Make sure you fill in any place that says `YOUR CODE HERE` or \"YOUR ANSWER HERE\", as well as your name and collaborators below:"
   ]
  },
  {
   "cell_type": "code",
   "execution_count": null,
   "metadata": {},
   "outputs": [],
   "source": [
    "NAME = \"\"\n",
    "COLLABORATORS = \"\""
   ]
  },
  {
   "cell_type": "markdown",
   "metadata": {},
   "source": [
    "---"
   ]
  },
  {
   "cell_type": "markdown",
   "metadata": {
    "deletable": false,
    "editable": false,
    "nbgrader": {
     "cell_type": "markdown",
     "checksum": "9c295f68c2e0a29038cd6bdef797de51",
     "grade": false,
     "grade_id": "title",
     "locked": true,
     "schema_version": 2,
     "solution": false
    }
   },
   "source": [
    "# HW1: Setup, Prerequisites, and Image Classification\n",
    "\n",
    "## Course Policies\n",
    "\n",
    "Here are some important course policies. These are also located at\n",
    "http://www.ds100.org/sp18/.\n",
    "\n",
    "**Collaboration Policy**\n",
    "\n",
    "Data science is a collaborative activity. While you may talk with others about\n",
    "the homework, we ask that you **write your solutions individually**. If you do\n",
    "discuss the assignments with others please **include their names** at the top\n",
    "of your solution.\n",
    "\n",
    "## This assignment\n",
    "\n",
    "This part goes over prerequisites to taking DS100.\n",
    "\n",
    "* How to set up Jupyter on your own computer.\n",
    "* How to check out and submit assignments for this class.\n",
    "* Python basics, like defining functions.\n",
    "* How to use the `numpy` library to compute with arrays of numbers.\n",
    "* Partial derivatives and matrix expressions\n",
    "\n",
    "\n",
    "## Due Date\n",
    "\n",
    "This assignment is due at 11:59pm Tuesday, January 30th. Instructions for submission are at the bottom of this assignment.\n"
   ]
  },
  {
   "cell_type": "markdown",
   "metadata": {
    "deletable": false,
    "editable": false,
    "nbgrader": {
     "cell_type": "markdown",
     "checksum": "1c5ba2c5762fda0dcc549262315e9c6b",
     "grade": false,
     "grade_id": "prereq-part1",
     "locked": true,
     "schema_version": 2,
     "solution": false
    }
   },
   "source": [
    "## Part 1: Prerequisites"
   ]
  },
  {
   "cell_type": "markdown",
   "metadata": {
    "deletable": false,
    "editable": false,
    "nbgrader": {
     "cell_type": "markdown",
     "checksum": "27d1132cd744107eddae29a570c6e74b",
     "grade": false,
     "grade_id": "setup",
     "locked": true,
     "schema_version": 2,
     "solution": false
    }
   },
   "source": [
    "### Setup\n",
    "\n",
    "If you haven't already, go through the instructions at\n",
    "http://www.ds100.org/sp18/setup.\n",
    "\n",
    "The instructions for submission are at the end of this notebook.\n",
    "\n",
    "You should now be able to open this notebook in Jupyter and run cells."
   ]
  },
  {
   "cell_type": "markdown",
   "metadata": {
    "deletable": false,
    "editable": false,
    "nbgrader": {
     "cell_type": "markdown",
     "checksum": "31c45d2f708beb4917f0b14a34addd9c",
     "grade": false,
     "grade_id": "running-a-cell",
     "locked": true,
     "schema_version": 2,
     "solution": false
    }
   },
   "source": [
    "### Running a Cell\n",
    "\n",
    "Try running the following cell.  If you unfamiliar with Jupyter Notebooks consider skimming [this tutorial](http://nbviewer.jupyter.org/github/jupyter/notebook/blob/master/docs/source/examples/Notebook/Notebook%20Basics.ipynb) or selecting **Help -> User Interface Tour** in the menu above. "
   ]
  },
  {
   "cell_type": "code",
   "execution_count": null,
   "metadata": {
    "deletable": false,
    "editable": false,
    "nbgrader": {
     "cell_type": "code",
     "checksum": "4d8dfa808b05395c81a3bf43dbed0f6b",
     "grade": false,
     "grade_id": "print-helloworld",
     "locked": true,
     "schema_version": 2,
     "solution": false
    }
   },
   "outputs": [],
   "source": [
    "print(\"Hello World!\")"
   ]
  },
  {
   "cell_type": "markdown",
   "metadata": {
    "deletable": false,
    "editable": false,
    "nbgrader": {
     "cell_type": "markdown",
     "checksum": "37f93d76e5cbe5c6b1cb5e2988b321a4",
     "grade": false,
     "grade_id": "jupyter-shortcuts",
     "locked": true,
     "schema_version": 2,
     "solution": false
    }
   },
   "source": [
    "Even if you are familiar with Jupyter, we strongly encourage you to become proficient with keyboard shortcuts (this will save you time in the future).  To learn about keyboard shortcuts go to **Help -> Keyboard Shortcuts** in the menu above. \n",
    "\n",
    "Here are a few we like:\n",
    "1. `ctrl`+`return` : *Evaluate the current cell*\n",
    "1. `shift`+`return`: *Evaluate the current cell and move to the next*\n",
    "1. `esc` : *command mode* (required before using any of the commands below)\n",
    "1. `a` : *create a cell above*\n",
    "1. `b` : *create a cell below*\n",
    "1. `d` : *delete a cell*\n",
    "1. `m` : *convert a cell to markdown*\n",
    "1. `y` : *convert a cell to code*"
   ]
  },
  {
   "cell_type": "markdown",
   "metadata": {
    "deletable": false,
    "editable": false,
    "nbgrader": {
     "cell_type": "markdown",
     "checksum": "880210cd5d2b772005cff29b8fa5b36e",
     "grade": false,
     "grade_id": "testing-your-setup",
     "locked": true,
     "schema_version": 2,
     "solution": false
    }
   },
   "source": [
    "### Testing your Setup\n",
    "\n",
    "If you've set up your environment properly, this cell should run without problems:"
   ]
  },
  {
   "cell_type": "code",
   "execution_count": null,
   "metadata": {
    "deletable": false,
    "editable": false,
    "nbgrader": {
     "cell_type": "code",
     "checksum": "996a8f6425097050e05ac9cfbe898e48",
     "grade": false,
     "grade_id": "all-the-imports",
     "locked": true,
     "schema_version": 2,
     "solution": false
    }
   },
   "outputs": [],
   "source": [
    "import math\n",
    "import numpy as np\n",
    "import matplotlib\n",
    "%matplotlib inline\n",
    "import matplotlib.pyplot as plt\n",
    "plt.style.use('fivethirtyeight')\n",
    "import pandas as pd\n",
    "import skimage\n",
    "import skimage.io\n",
    "import skimage.filters"
   ]
  },
  {
   "cell_type": "markdown",
   "metadata": {
    "deletable": false,
    "editable": false,
    "nbgrader": {
     "cell_type": "markdown",
     "checksum": "70d77ecade2565eb58c37a0bbccaca8e",
     "grade": false,
     "grade_id": "python-tutorial-links",
     "locked": true,
     "schema_version": 2,
     "solution": false
    }
   },
   "source": [
    "### Python\n",
    "\n",
    "Python is the main programming language we'll use in the course. We expect that you've taken CS61A or an equivalent class, so you should be able to explain the following cells. Run them and make sure you understand what is happening in each.\n",
    "\n",
    "If this seems difficult, please review one or more of the following materials.\n",
    "\n",
    "- **[Python Tutorial](https://docs.python.org/3.5/tutorial/)**: Introduction to Python from the creators of Python\n",
    "- **[Composing Programs Chapter 1](http://composingprograms.com/pages/11-getting-started.html)**: This is more of a introduction to programming with Python.\n",
    "- **[Advanced Crash Course](http://cs231n.github.io/python-numpy-tutorial/)**: A fast crash course which assumes some programming background.\n"
   ]
  },
  {
   "cell_type": "markdown",
   "metadata": {
    "deletable": false,
    "editable": false,
    "nbgrader": {
     "cell_type": "markdown",
     "checksum": "cb31cab81a2503bcad214528716e1efb",
     "grade": false,
     "grade_id": "mathematical-expressions",
     "locked": true,
     "schema_version": 2,
     "solution": false
    }
   },
   "source": [
    "<img src=\"launch.png\" width=\"40px\" align=\"left\" float=\"left\"/>\n",
    "#### Mathematical Expressions\n",
    "Note that the rocket icon indicates that you should just run the following cells."
   ]
  },
  {
   "cell_type": "code",
   "execution_count": null,
   "metadata": {
    "deletable": false,
    "editable": false,
    "nbgrader": {
     "cell_type": "code",
     "checksum": "373741ec83109a2bb362b522a6e97858",
     "grade": false,
     "grade_id": "math-sqrt",
     "locked": true,
     "schema_version": 2,
     "solution": false
    }
   },
   "outputs": [],
   "source": [
    "# This is a comment.\n",
    "# In Python, the ** operator performs exponentiation.\n",
    "math.sqrt(math.e ** (-math.pi + 1))"
   ]
  },
  {
   "cell_type": "markdown",
   "metadata": {
    "deletable": false,
    "editable": false,
    "nbgrader": {
     "cell_type": "markdown",
     "checksum": "1daa637fcc4cd5d89a98f1fa7a56d294",
     "grade": false,
     "grade_id": "output-and-printing",
     "locked": true,
     "schema_version": 2,
     "solution": false
    }
   },
   "source": [
    "<img src=\"launch.png\" width=\"40px\" align=\"left\" float=\"left\"/>\n",
    "#### Output and Printing"
   ]
  },
  {
   "cell_type": "code",
   "execution_count": null,
   "metadata": {
    "deletable": false,
    "editable": false,
    "nbgrader": {
     "cell_type": "code",
     "checksum": "9ab477866cebf6782c1e5adb03977369",
     "grade": false,
     "grade_id": "why-no-print",
     "locked": true,
     "schema_version": 2,
     "solution": false
    }
   },
   "outputs": [],
   "source": [
    "\"Why didn't this line print?\"\n",
    "\n",
    "print(\"Hello\" + \",\", \"world!\")\n",
    "\n",
    "\"Hello, cell\" + \" output!\""
   ]
  },
  {
   "cell_type": "markdown",
   "metadata": {
    "deletable": false,
    "editable": false,
    "nbgrader": {
     "cell_type": "markdown",
     "checksum": "61abaf8fd361b57411e0f1a1a7d34207",
     "grade": false,
     "grade_id": "for-loops",
     "locked": true,
     "schema_version": 2,
     "solution": false
    }
   },
   "source": [
    "<img src=\"launch.png\" width=\"40px\" align=\"left\" float=\"left\"/>\n",
    "#### For Loops"
   ]
  },
  {
   "cell_type": "code",
   "execution_count": null,
   "metadata": {
    "deletable": false,
    "editable": false,
    "nbgrader": {
     "cell_type": "code",
     "checksum": "53b1f92b21db1701fb02bc3945fdb329",
     "grade": false,
     "grade_id": "for-loops-code",
     "locked": true,
     "schema_version": 2,
     "solution": false
    }
   },
   "outputs": [],
   "source": [
    "# A for loop repeats a block of code once for each\n",
    "# element in a given collection.\n",
    "for i in range(5):\n",
    "    if i % 2 == 0:\n",
    "        print(2**i)\n",
    "    else:\n",
    "        print(\"Odd power of 2\")"
   ]
  },
  {
   "cell_type": "markdown",
   "metadata": {
    "deletable": false,
    "editable": false,
    "nbgrader": {
     "cell_type": "markdown",
     "checksum": "ff336c88be61f39380c7984668e88c49",
     "grade": false,
     "grade_id": "list-comprehension",
     "locked": true,
     "schema_version": 2,
     "solution": false
    }
   },
   "source": [
    "<img src=\"launch.png\" width=\"40px\" align=\"left\" float=\"left\"/>\n",
    "#### List Comprehension"
   ]
  },
  {
   "cell_type": "code",
   "execution_count": null,
   "metadata": {
    "deletable": false,
    "editable": false,
    "nbgrader": {
     "cell_type": "code",
     "checksum": "b73efbbf915254c428decbb42230921d",
     "grade": false,
     "grade_id": "list-comp-code",
     "locked": true,
     "schema_version": 2,
     "solution": false
    }
   },
   "outputs": [],
   "source": [
    "[str(i) + \" sheep.\" for i in range(1,5)] "
   ]
  },
  {
   "cell_type": "code",
   "execution_count": null,
   "metadata": {
    "deletable": false,
    "editable": false,
    "nbgrader": {
     "cell_type": "code",
     "checksum": "cf2b95d90c0fd3a6754cbeb83a1523c4",
     "grade": false,
     "grade_id": "more-list-comp-code",
     "locked": true,
     "schema_version": 2,
     "solution": false
    }
   },
   "outputs": [],
   "source": [
    "[i for i in range(10) if i % 2 == 0]"
   ]
  },
  {
   "cell_type": "markdown",
   "metadata": {
    "deletable": false,
    "editable": false,
    "nbgrader": {
     "cell_type": "markdown",
     "checksum": "4019eddb08e868ba791409d6fc683de2",
     "grade": false,
     "grade_id": "defining-functions",
     "locked": true,
     "schema_version": 2,
     "solution": false
    }
   },
   "source": [
    "<img src=\"launch.png\" width=\"40px\" align=\"left\" float=\"left\"/>\n",
    "#### Defining Functions"
   ]
  },
  {
   "cell_type": "code",
   "execution_count": null,
   "metadata": {
    "deletable": false,
    "editable": false,
    "nbgrader": {
     "cell_type": "code",
     "checksum": "661113989cc8f0b9d720538abe72442b",
     "grade": false,
     "grade_id": "add-2-function",
     "locked": true,
     "schema_version": 2,
     "solution": false
    }
   },
   "outputs": [],
   "source": [
    "def add2(x):\n",
    "    \"\"\"This docstring explains what this function does: it adds 2 to a number.\"\"\"\n",
    "    return x + 2"
   ]
  },
  {
   "cell_type": "markdown",
   "metadata": {
    "deletable": false,
    "editable": false,
    "nbgrader": {
     "cell_type": "markdown",
     "checksum": "c09ded864939c7c63ae05ff2acce1d41",
     "grade": false,
     "grade_id": "get-help",
     "locked": true,
     "schema_version": 2,
     "solution": false
    }
   },
   "source": [
    "<img src=\"launch.png\" width=\"40px\" align=\"left\" float=\"left\"/>\n",
    "#### Getting Help"
   ]
  },
  {
   "cell_type": "code",
   "execution_count": null,
   "metadata": {
    "deletable": false,
    "editable": false,
    "nbgrader": {
     "cell_type": "code",
     "checksum": "5ca8b464f0d81a22dbc80a5d3290933c",
     "grade": false,
     "grade_id": "help-add2",
     "locked": true,
     "schema_version": 2,
     "solution": false
    }
   },
   "outputs": [],
   "source": [
    "help(add2)"
   ]
  },
  {
   "cell_type": "markdown",
   "metadata": {
    "deletable": false,
    "editable": false,
    "nbgrader": {
     "cell_type": "markdown",
     "checksum": "0fc000ae9c450f5cdfa8ed0fc757e096",
     "grade": false,
     "grade_id": "closing-the-window",
     "locked": true,
     "schema_version": 2,
     "solution": false
    }
   },
   "source": [
    "You can close the window at the bottom by pressing `esc` several times. "
   ]
  },
  {
   "cell_type": "markdown",
   "metadata": {
    "deletable": false,
    "editable": false,
    "nbgrader": {
     "cell_type": "markdown",
     "checksum": "912292fe078a9d0a1a657f687a32c36d",
     "grade": false,
     "grade_id": "passing-functions",
     "locked": true,
     "schema_version": 2,
     "solution": false
    }
   },
   "source": [
    "<img src=\"launch.png\" width=\"40px\" align=\"left\" float=\"left\"/>\n",
    "#### Passing Functions as Values"
   ]
  },
  {
   "cell_type": "code",
   "execution_count": null,
   "metadata": {
    "deletable": false,
    "editable": false,
    "nbgrader": {
     "cell_type": "code",
     "checksum": "7b21bff1e2ab7845e6e05dc3ba2c077b",
     "grade": false,
     "grade_id": "make-adder",
     "locked": true,
     "schema_version": 2,
     "solution": false
    }
   },
   "outputs": [],
   "source": [
    "def makeAdder(amount):\n",
    "    \"\"\"Make a function that adds the given amount to a number.\"\"\"\n",
    "    def addAmount(x):\n",
    "        return x + amount\n",
    "    return addAmount\n",
    "\n",
    "add3 = makeAdder(3)\n",
    "add3(4)"
   ]
  },
  {
   "cell_type": "code",
   "execution_count": null,
   "metadata": {
    "deletable": false,
    "editable": false,
    "nbgrader": {
     "cell_type": "code",
     "checksum": "fd40615aeeb0790416e16438edfe0009",
     "grade": false,
     "grade_id": "make-adder-curry",
     "locked": true,
     "schema_version": 2,
     "solution": false
    }
   },
   "outputs": [],
   "source": [
    "makeAdder(3)(4)"
   ]
  },
  {
   "cell_type": "markdown",
   "metadata": {
    "deletable": false,
    "editable": false,
    "nbgrader": {
     "cell_type": "markdown",
     "checksum": "faff97b2a7f4ace5201df1699b9ab4b8",
     "grade": false,
     "grade_id": "anon-function",
     "locked": true,
     "schema_version": 2,
     "solution": false
    }
   },
   "source": [
    "<img src=\"launch.png\" width=\"40px\" align=\"left\" float=\"left\"/>\n",
    "#### Anonymous Functions and Lambdas"
   ]
  },
  {
   "cell_type": "code",
   "execution_count": null,
   "metadata": {
    "deletable": false,
    "editable": false,
    "nbgrader": {
     "cell_type": "code",
     "checksum": "db319326f7568ac22198aac2be52d31c",
     "grade": false,
     "grade_id": "add4-to-5",
     "locked": true,
     "schema_version": 2,
     "solution": false
    }
   },
   "outputs": [],
   "source": [
    "# add4 is very similar to add2, but it's been created using a lambda expression.\n",
    "add4 = lambda x: x + 4\n",
    "add4(5)"
   ]
  },
  {
   "cell_type": "markdown",
   "metadata": {
    "deletable": false,
    "editable": false,
    "nbgrader": {
     "cell_type": "markdown",
     "checksum": "e55f303b10d675f20ab0057c79959a1d",
     "grade": false,
     "grade_id": "recurrsion",
     "locked": true,
     "schema_version": 2,
     "solution": false
    }
   },
   "source": [
    "<img src=\"launch.png\" width=\"40px\" align=\"left\" float=\"left\"/>\n",
    "#### Recursion"
   ]
  },
  {
   "cell_type": "code",
   "execution_count": null,
   "metadata": {
    "deletable": false,
    "editable": false,
    "nbgrader": {
     "cell_type": "code",
     "checksum": "1375f02cbe0d34d7b176de7870af2da6",
     "grade": false,
     "grade_id": "total-fib",
     "locked": true,
     "schema_version": 2,
     "solution": false
    }
   },
   "outputs": [],
   "source": [
    "def fib(n):\n",
    "    if n <= 1:\n",
    "        return 1\n",
    "    else:\n",
    "        # Functions can call themselves recursively.\n",
    "        return fib(n-1) + fib(n-2)\n",
    "\n",
    "fib(6)"
   ]
  },
  {
   "cell_type": "markdown",
   "metadata": {
    "deletable": false,
    "editable": false,
    "nbgrader": {
     "cell_type": "markdown",
     "checksum": "85d8b83f79434888f22c52650ac2da35",
     "grade": false,
     "grade_id": "begin-question1",
     "locked": true,
     "schema_version": 2,
     "solution": false
    }
   },
   "source": [
    "### Question 1\n",
    "\n",
    "#### Question 1a\n",
    "Write a function nums_reversed that takes in an integer `n` and returns a string\n",
    "containing the numbers 1 through `n` including `n` in reverse order, separated\n",
    "by spaces. For example:\n",
    "\n",
    "    >>> nums_reversed(5)\n",
    "    '5 4 3 2 1'\n",
    "\n",
    "***Note:*** The ellipsis (`...`) indicates something you should fill in.  It *doesn't* necessarily imply you should replace it with only one line of code.\n",
    "\n",
    "\n",
    "<img src=\"code.png\" width=\"75px\" align=\"left\"/> \n",
    "<br/>\n",
    "The code icon indicates that you should complete the following block of code."
   ]
  },
  {
   "cell_type": "code",
   "execution_count": null,
   "metadata": {
    "deletable": false,
    "nbgrader": {
     "cell_type": "code",
     "checksum": "54cc8f567acf9aef5ba9614d0c5315ba",
     "grade": false,
     "grade_id": "num-reversed",
     "locked": false,
     "schema_version": 2,
     "solution": true
    }
   },
   "outputs": [],
   "source": [
    "def nums_reversed(n):\n",
    "    # YOUR CODE HERE\n",
    "    raise NotImplementedError()"
   ]
  },
  {
   "cell_type": "markdown",
   "metadata": {},
   "source": [
    "Test your code in the cell below."
   ]
  },
  {
   "cell_type": "code",
   "execution_count": null,
   "metadata": {
    "deletable": false,
    "editable": false,
    "nbgrader": {
     "cell_type": "code",
     "checksum": "75104c284a0199898a3529bc43b12c26",
     "grade": true,
     "grade_id": "num-reversed-tests",
     "locked": true,
     "points": 1,
     "schema_version": 2,
     "solution": false
    }
   },
   "outputs": [],
   "source": [
    "assert nums_reversed(5) == '5 4 3 2 1'\n",
    "assert nums_reversed(1) == '1'\n"
   ]
  },
  {
   "cell_type": "markdown",
   "metadata": {
    "deletable": false,
    "editable": false,
    "nbgrader": {
     "cell_type": "markdown",
     "checksum": "e10d3fdb45628f1b001607b511e70eeb",
     "grade": false,
     "grade_id": "question1b",
     "locked": true,
     "schema_version": 2,
     "solution": false
    }
   },
   "source": [
    "#### Question 1b\n",
    "\n",
    "Write a function `string_splosion` that takes in a non-empty string like\n",
    "`\"Code\"` and returns a long string containing every prefix of the input.\n",
    "For example:\n",
    "\n",
    "    >>> string_splosion('Code')\n",
    "    'CCoCodCode'\n",
    "    >>> string_splosion('data!')\n",
    "    'ddadatdatadata!'\n",
    "    >>> string_splosion('hi')\n",
    "    'hhi'\n",
    "\n",
    "**Hint:** Try to use recursion. Think about how you might answering the following two questions:\n",
    "1. **[Base Case]** What is the `string_splosion` of the empty string?\n",
    "1. **[Inductive Step]** If you had a `string_splosion` function for the first $n-1$ characters of your string how could you extend it to the $n^{th}$ character? For example, `string_splosion(\"Cod\") = \"CCoCod\"` becomes `string_splosion(\"Code\") = \"CCoCodCode\"`.\n",
    "\n",
    "<img src=\"code.png\" width=\"75px\" align=\"left\"/> "
   ]
  },
  {
   "cell_type": "code",
   "execution_count": null,
   "metadata": {
    "deletable": false,
    "nbgrader": {
     "cell_type": "code",
     "checksum": "0e914e56528eea142a988ed922a67fe4",
     "grade": false,
     "grade_id": "string-splosion",
     "locked": false,
     "schema_version": 2,
     "solution": true
    },
    "tags": [
     "solution"
    ]
   },
   "outputs": [],
   "source": [
    "def string_splosion(string):\n",
    "    # YOUR CODE HERE\n",
    "    raise NotImplementedError()"
   ]
  },
  {
   "cell_type": "markdown",
   "metadata": {
    "deletable": false,
    "editable": false,
    "nbgrader": {
     "cell_type": "markdown",
     "checksum": "63becdc8c0c65183ddf374793bf012db",
     "grade": false,
     "grade_id": "cell-467154f0825324ae",
     "locked": true,
     "schema_version": 2,
     "solution": false
    }
   },
   "source": [
    "Test your code in the cell below."
   ]
  },
  {
   "cell_type": "code",
   "execution_count": null,
   "metadata": {
    "deletable": false,
    "editable": false,
    "nbgrader": {
     "cell_type": "code",
     "checksum": "4d54fee6882f25d1ecf7e51c4d07489b",
     "grade": true,
     "grade_id": "string-splosion-test",
     "locked": true,
     "points": 1,
     "schema_version": 2,
     "solution": false
    }
   },
   "outputs": [],
   "source": [
    "assert string_splosion('Code') == 'CCoCodCode'\n",
    "assert string_splosion('fade') == 'ffafadfade'\n"
   ]
  },
  {
   "cell_type": "markdown",
   "metadata": {
    "deletable": false,
    "editable": false,
    "nbgrader": {
     "cell_type": "markdown",
     "checksum": "9fbe2e0df123b097294f5337307600f1",
     "grade": false,
     "grade_id": "question-1c",
     "locked": true,
     "schema_version": 2,
     "solution": false
    }
   },
   "source": [
    "#### Question 1c\n",
    "\n",
    "Write a function `double100` that takes in a list of integers\n",
    "and returns `True` only if the list has two `100`s next to each other.\n",
    "\n",
    "    >>> double100([100, 2, 3, 100])\n",
    "    False\n",
    "    >>> double100([2, 3, 100, 100, 5])\n",
    "    True\n",
    "\n",
    "<img src=\"code.png\" width=\"75px\" align=\"left\"/> "
   ]
  },
  {
   "cell_type": "code",
   "execution_count": null,
   "metadata": {
    "deletable": false,
    "nbgrader": {
     "cell_type": "code",
     "checksum": "97b8e4a77b5a3f0cc184b6012307fc2c",
     "grade": false,
     "grade_id": "double100",
     "locked": false,
     "schema_version": 2,
     "solution": true
    },
    "tags": [
     "solution"
    ]
   },
   "outputs": [],
   "source": [
    "def double100(nums):\n",
    "    # YOUR CODE HERE\n",
    "    raise NotImplementedError()"
   ]
  },
  {
   "cell_type": "code",
   "execution_count": null,
   "metadata": {
    "deletable": false,
    "editable": false,
    "nbgrader": {
     "cell_type": "code",
     "checksum": "218bb92ab20da871bb5e5cfe1cd3cbfb",
     "grade": true,
     "grade_id": "double100-tests",
     "locked": true,
     "points": 1,
     "schema_version": 2,
     "solution": false
    }
   },
   "outputs": [],
   "source": [
    "assert double100([3, 3, 100, 100]) == True\n",
    "assert double100([5, 2, 5, 2]) == False\n",
    "assert double100([4, 2, 4, 100, 100, 5]) == True"
   ]
  },
  {
   "cell_type": "markdown",
   "metadata": {
    "deletable": false,
    "editable": false,
    "nbgrader": {
     "cell_type": "markdown",
     "checksum": "879fbab7b9199d887c56aa42349a5b27",
     "grade": false,
     "grade_id": "numpy-and-tables",
     "locked": true,
     "schema_version": 2,
     "solution": false
    }
   },
   "source": [
    "### NumPy and Tables\n",
    "\n",
    "The `NumPy` library lets us do fast, simple computing with numbers in Python. \n",
    "\n",
    "You should be able to understand the code in the following cells. If not, review the following:\n",
    "\n",
    "* [DS100 Numpy Review](http://ds100.org/fa17/assets/notebooks/numpy/Numpy_Review.html)\n",
    "* [Condensed Numpy Review](http://cs231n.github.io/python-numpy-tutorial/#numpy)\n",
    "* [The Official Numpy Tutorial](https://docs.scipy.org/doc/numpy-dev/user/quickstart.html)\n",
    "\n"
   ]
  },
  {
   "cell_type": "markdown",
   "metadata": {
    "deletable": false,
    "editable": false,
    "nbgrader": {
     "cell_type": "markdown",
     "checksum": "708e32bc7cfb7ebd772dc4e4b6e40d9c",
     "grade": false,
     "grade_id": "jupyter-pro-tip",
     "locked": true,
     "schema_version": 2,
     "solution": false
    }
   },
   "source": [
    "**Jupyter pro-tip**: Pull up the docs for any function in Jupyter by running a cell with\n",
    "the function name and a `?` at the end:\n",
    "\n",
    "<img src=\"launch.png\" width=\"40px\" align=\"left\" float=\"left\"/>"
   ]
  },
  {
   "cell_type": "code",
   "execution_count": null,
   "metadata": {
    "deletable": false,
    "editable": false,
    "nbgrader": {
     "cell_type": "code",
     "checksum": "b86d7aec77704a4bf2119edcec544f55",
     "grade": false,
     "grade_id": "np-arange-huh",
     "locked": true,
     "schema_version": 2,
     "solution": false
    }
   },
   "outputs": [],
   "source": [
    "np.arange?"
   ]
  },
  {
   "cell_type": "markdown",
   "metadata": {
    "deletable": false,
    "editable": false,
    "nbgrader": {
     "cell_type": "markdown",
     "checksum": "0ecfa74779f4801e846b87a57e256b7a",
     "grade": false,
     "grade_id": "jupyter-pro-tip-two",
     "locked": true,
     "schema_version": 2,
     "solution": false
    }
   },
   "source": [
    "**Another Jupyter pro-tip**: Pull up the docs for any function in Jupyter by typing the function\n",
    "name, then `<Shift>-<Tab>` on your keyboard. Super convenient when you forget the order\n",
    "of the arguments to a function. You can press `<Tab>` multiple tabs to expand the docs.\n",
    "\n",
    "Try it on the function below:"
   ]
  },
  {
   "cell_type": "code",
   "execution_count": null,
   "metadata": {},
   "outputs": [],
   "source": [
    "np.linspace"
   ]
  },
  {
   "cell_type": "markdown",
   "metadata": {
    "deletable": false,
    "editable": false,
    "nbgrader": {
     "cell_type": "markdown",
     "checksum": "7ee05d8e676fb24e90a4f527f736386e",
     "grade": false,
     "grade_id": "instructions-decypher",
     "locked": true,
     "schema_version": 2,
     "solution": false
    }
   },
   "source": [
    "You can use the tips above to help you deciper the following code.\n",
    "\n",
    "<img src=\"launch.png\" width=\"40px\" align=\"left\" float=\"left\"/>"
   ]
  },
  {
   "cell_type": "code",
   "execution_count": null,
   "metadata": {
    "deletable": false,
    "editable": false,
    "nbgrader": {
     "cell_type": "code",
     "checksum": "e4ce1c9dc01fa4b30d2418b1c4e92b16",
     "grade": false,
     "grade_id": "weird-code",
     "locked": true,
     "schema_version": 2,
     "solution": false
    }
   },
   "outputs": [],
   "source": [
    "# Let's take a 20-sided die...\n",
    "NUM_FACES = 20\n",
    "\n",
    "# ...and roll it 4 times\n",
    "rolls = 4\n",
    "\n",
    "# What's the probability that all 4 rolls are different? It's:\n",
    "# 20/20 * 19/20 * 18/20 * 17/20\n",
    "prob_diff = np.prod((NUM_FACES - np.arange(rolls))\n",
    "                    / NUM_FACES)\n",
    "prob_diff"
   ]
  },
  {
   "cell_type": "code",
   "execution_count": null,
   "metadata": {
    "deletable": false,
    "editable": false,
    "nbgrader": {
     "cell_type": "code",
     "checksum": "60f27af129aeac5799ef3b4581171e96",
     "grade": false,
     "grade_id": "more-weird-code",
     "locked": true,
     "schema_version": 2,
     "solution": false
    }
   },
   "outputs": [],
   "source": [
    "# Let's compute that probability for 1 roll, 2 rolls, ..., 20 rolls.\n",
    "# The array ys will contain:\n",
    "# \n",
    "# 20/20\n",
    "# 20/20 * 19/20\n",
    "# 20/20 * 18/20\n",
    "# ...\n",
    "# 20/20 * 19/20 * ... * 1/20\n",
    "\n",
    "xs = np.arange(20)\n",
    "ys = np.cumprod((NUM_FACES - xs) / NUM_FACES)\n",
    "\n",
    "# Python slicing works on arrays too\n",
    "ys[:5]"
   ]
  },
  {
   "cell_type": "code",
   "execution_count": null,
   "metadata": {
    "deletable": false,
    "editable": false,
    "nbgrader": {
     "cell_type": "code",
     "checksum": "90dcf622a66997f4d7cfea7ea7db624e",
     "grade": false,
     "grade_id": "plotting-code",
     "locked": true,
     "schema_version": 2,
     "solution": false
    }
   },
   "outputs": [],
   "source": [
    "plt.plot(xs, ys, 'o-')\n",
    "plt.xlabel(\"Num Rolls\")\n",
    "plt.ylabel('P(all different)')"
   ]
  },
  {
   "cell_type": "code",
   "execution_count": null,
   "metadata": {
    "deletable": false,
    "editable": false,
    "nbgrader": {
     "cell_type": "code",
     "checksum": "2724184a772438b66203efc4c3f23fd4",
     "grade": false,
     "grade_id": "total-mystery",
     "locked": true,
     "schema_version": 2,
     "solution": false
    }
   },
   "outputs": [],
   "source": [
    "# Mysterious...\n",
    "mystery = np.exp(-xs ** 2 / (2 * NUM_FACES))\n",
    "mystery"
   ]
  },
  {
   "cell_type": "code",
   "execution_count": null,
   "metadata": {
    "deletable": false,
    "editable": false,
    "nbgrader": {
     "cell_type": "code",
     "checksum": "deffbe976b86e194fe01594082c24eaa",
     "grade": false,
     "grade_id": "another-plot",
     "locked": true,
     "schema_version": 2,
     "solution": false
    }
   },
   "outputs": [],
   "source": [
    "# If you're curious, this is the exponential approximation for our probability:\n",
    "# https://textbook.prob140.org/ch1/Exponential_Approximation.html\n",
    "plt.plot(xs, ys, 'o-', label=\"All Different\")\n",
    "plt.plot(xs, mystery, 'o-', label=\"Mystery\")\n",
    "plt.xlabel(\"Num Rolls\")\n",
    "plt.ylabel('P(all different)')\n",
    "plt.legend()"
   ]
  },
  {
   "cell_type": "markdown",
   "metadata": {
    "deletable": false,
    "editable": false,
    "nbgrader": {
     "cell_type": "markdown",
     "checksum": "476630cc9dac42f33b2f1a053da45875",
     "grade": false,
     "grade_id": "quesiton2",
     "locked": true,
     "schema_version": 2,
     "solution": false
    }
   },
   "source": [
    "### Question 2\n",
    "\n",
    "To test your understanding of Numpy we will work through some basic image exercises.  In the process we will explore  visual perception and color.\n",
    "\n",
    "Images are 2-dimensional grids of pixels. Each pixel contains 3 values between 0 and 1 that specify how much red, green, and blue go into each pixel.\n",
    "\n",
    "We can create images in NumPy:\n",
    "\n",
    "<img src=\"launch.png\" width=\"40px\" align=\"left\" float=\"left\"/>"
   ]
  },
  {
   "cell_type": "code",
   "execution_count": null,
   "metadata": {
    "deletable": false,
    "editable": false,
    "nbgrader": {
     "cell_type": "code",
     "checksum": "8c73e9d0fa94a1d6473a0e523afaf53f",
     "grade": false,
     "grade_id": "some-array-data",
     "locked": true,
     "schema_version": 2,
     "solution": false
    }
   },
   "outputs": [],
   "source": [
    "simple_image = np.array([\n",
    "    [[  0,   0, 0], [0.5, 0.5, 0.5], [1.0, 1.0, 1.0]], # Grayscale pixels\n",
    "    [[1.0,   0, 0], [  0, 1.0,   0], [  0,   0, 1.0]], # Pure RGB pixels\n",
    "    [[0.5, 0.5, 0], [0.5,   0, 0.5], [  0, 0.5, 0.5]], # Blend of 2 colors\n",
    "])\n",
    "simple_image"
   ]
  },
  {
   "cell_type": "markdown",
   "metadata": {
    "deletable": false,
    "editable": false,
    "nbgrader": {
     "cell_type": "markdown",
     "checksum": "e628e47c54d98dcbec12736a8b4e77b0",
     "grade": false,
     "grade_id": "sk-learn-image",
     "locked": true,
     "schema_version": 2,
     "solution": false
    }
   },
   "source": [
    "We can then use the [`scikit-image`](http://scikit-image.org/) library to display an image:\n",
    "\n",
    "<img src=\"launch.png\" width=\"40px\" align=\"left\" float=\"left\"/>"
   ]
  },
  {
   "cell_type": "code",
   "execution_count": null,
   "metadata": {
    "deletable": false,
    "editable": false,
    "nbgrader": {
     "cell_type": "code",
     "checksum": "75c47cfd39f9175ead15b799989de25a",
     "grade": false,
     "grade_id": "plotting-pixels",
     "locked": true,
     "schema_version": 2,
     "solution": false
    }
   },
   "outputs": [],
   "source": [
    "# Curious how this method works? Try using skimage.io.imshow? to find out.\n",
    "# Or, you can always look at the docs for the method.\n",
    "skimage.io.imshow(simple_image)\n",
    "plt.grid(False) # Disable matplotlib's grid lines"
   ]
  },
  {
   "cell_type": "markdown",
   "metadata": {
    "deletable": false,
    "editable": false,
    "nbgrader": {
     "cell_type": "markdown",
     "checksum": "f06308009f4bfc2e9028f8854dde43e7",
     "grade": false,
     "grade_id": "cell-c9b196813c7e3734",
     "locked": true,
     "schema_version": 2,
     "solution": false
    }
   },
   "source": [
    "We can read in image files using the `skimage.io.imread` method.  \n",
    "\n",
    "*Note that in many image formats (e.g., JPEG) image values are numbers between 0 and 255 corresponding to a byte.  Therefore we divide each pixel value by 255 to obtain numbers between 0 and 1.*  \n",
    "\n",
    "<img src=\"launch.png\" width=\"40px\" align=\"left\" float=\"left\"/>"
   ]
  },
  {
   "cell_type": "code",
   "execution_count": null,
   "metadata": {
    "deletable": false,
    "editable": false,
    "nbgrader": {
     "cell_type": "code",
     "checksum": "add219d4264839499794dff4b3913148",
     "grade": false,
     "grade_id": "gonzalez-has-bad-aim",
     "locked": true,
     "schema_version": 2,
     "solution": false
    }
   },
   "outputs": [],
   "source": [
    "plt.figure(figsize=(20,10))\n",
    "\n",
    "# Some image files (including .jpg files) have pixel values in between\n",
    "# 0 and 255 when read. We divide by 255 to scale the values between 0 and 1:\n",
    "pic = skimage.io.imread('target.jpg')/255\n",
    "\n",
    "\n",
    "skimage.io.imshow(pic)\n",
    "plt.grid(False) # Disable matplotlib's grid lines"
   ]
  },
  {
   "cell_type": "markdown",
   "metadata": {
    "deletable": false,
    "editable": false,
    "nbgrader": {
     "cell_type": "markdown",
     "checksum": "1978e7e9250b82f89575e81ce08a6139",
     "grade": false,
     "grade_id": "gonzalez-is-getting-better",
     "locked": true,
     "schema_version": 2,
     "solution": false
    }
   },
   "source": [
    "*Professor Gonzalez is a **very amateur** archer*."
   ]
  },
  {
   "cell_type": "markdown",
   "metadata": {
    "deletable": false,
    "editable": false,
    "nbgrader": {
     "cell_type": "markdown",
     "checksum": "48f89569a4194257390a22e3f0a0dc7d",
     "grade": false,
     "grade_id": "question-2a",
     "locked": true,
     "schema_version": 2,
     "solution": false
    }
   },
   "source": [
    "#### Question 2a\n",
    "\n",
    "Complete the following block of code to plot the Red, Green, and Blue color channels separately.  The resulting images should appear in black and white.\n",
    "\n",
    "* **Hint:** `pic[:, :, 0]` will slice the image to extract the red color channel.  Plotting the resulting matrix will generate a black and white picture.*\n",
    "\n",
    "<img src=\"code.png\" width=\"75px\" align=\"left\"/> \n"
   ]
  },
  {
   "cell_type": "code",
   "execution_count": null,
   "metadata": {
    "deletable": false,
    "nbgrader": {
     "cell_type": "code",
     "checksum": "c873e18a65c27407223e76023044aeb8",
     "grade": false,
     "grade_id": "imshowing-you-the-answer",
     "locked": false,
     "schema_version": 2,
     "solution": true
    },
    "tags": [
     "solution"
    ]
   },
   "outputs": [],
   "source": [
    "plt.figure(figsize=(20,10)) \n",
    "channel_names = [\"Red\", \"Green\", \"Blue\"]\n",
    "\n",
    "# Loop through index of each channel\n",
    "for channel in range(3):\n",
    "    # Make a subplot\n",
    "    plt.subplot(1,3,channel+1)\n",
    "    # FINISH THE CODE\n",
    "    # Hint: you should write one line of code that calls\n",
    "    # `skimage.io.imshow`\n",
    "    \n",
    "    # YOUR CODE HERE\n",
    "    raise NotImplementedError()\n",
    "    \n",
    "    plt.grid(False)\n",
    "    plt.title(channel_names[channel])"
   ]
  },
  {
   "cell_type": "markdown",
   "metadata": {
    "deletable": false,
    "editable": false,
    "nbgrader": {
     "cell_type": "markdown",
     "checksum": "41845020dc0c1edb2ed5b69bef8b4420",
     "grade": false,
     "grade_id": "question2b-or-not-2b",
     "locked": true,
     "schema_version": 2,
     "solution": false
    }
   },
   "source": [
    "#### Question 2b\n",
    "\n",
    "Surprisingly the human eye doesn't see all colors equally.  To demonstrate this we will study how blurring color channels affects image appearance.  First, we will try to blur each color channel individually.  Complete the following block of code using the `skimage.filters.gaussian` blurring function (read the docs) to render a blurry black and white image for each of the color channels.  You should set the standard deviation of the Gaussian blurring kernel `sigma` to 10.\n",
    "\n",
    "<img src=\"code.png\" width=\"75px\" align=\"left\"/> "
   ]
  },
  {
   "cell_type": "code",
   "execution_count": null,
   "metadata": {
    "deletable": false,
    "nbgrader": {
     "cell_type": "code",
     "checksum": "73b1c032bea3d3cba21538729863b0bd",
     "grade": false,
     "grade_id": "imshow-blur",
     "locked": false,
     "schema_version": 2,
     "solution": true
    },
    "tags": [
     "solution"
    ]
   },
   "outputs": [],
   "source": [
    "plt.figure(figsize=(20,10))\n",
    "\n",
    "sigma = 10\n",
    "\n",
    "# Loop through index of each channel\n",
    "for channel in range(3):\n",
    "    # Make a subplot\n",
    "    plt.subplot(1,3,channel+1)\n",
    "    # FINISH THE CODE \n",
    "    \n",
    "    # YOUR CODE HERE\n",
    "    raise NotImplementedError()\n",
    "    \n",
    "    plt.grid(False)\n",
    "    plt.title(channel_names[channel])"
   ]
  },
  {
   "cell_type": "markdown",
   "metadata": {
    "deletable": false,
    "editable": false,
    "nbgrader": {
     "cell_type": "markdown",
     "checksum": "e5282370c65176fdc2ba923c80d39e5f",
     "grade": false,
     "grade_id": "question2c",
     "locked": true,
     "schema_version": 2,
     "solution": false
    }
   },
   "source": [
    "#### Question 2c\n",
    "\n",
    "Using the following block of code:\n",
    "\n",
    "```python\n",
    "pic_copy = pic.copy()\n",
    "pic_copy[:, :, channel] = ...\n",
    "skimage.io.imshow(pic_copy)\n",
    "```\n",
    "\n",
    "we can replace a color channel with a different black and white image.  Complete the following block of code to render three different versions of the full color image with just one of the channels blurred.\n",
    "\n",
    "<img src=\"code.png\" width=\"75px\" align=\"left\"/> "
   ]
  },
  {
   "cell_type": "code",
   "execution_count": null,
   "metadata": {
    "deletable": false,
    "nbgrader": {
     "cell_type": "code",
     "checksum": "2403fddfefc0add10aabad7f7263dc96",
     "grade": false,
     "grade_id": "blur-the-channel",
     "locked": false,
     "schema_version": 2,
     "solution": true
    },
    "tags": [
     "solution"
    ]
   },
   "outputs": [],
   "source": [
    "plt.figure(figsize=(20,10))\n",
    "\n",
    "sigma = 10\n",
    "\n",
    "# Loop through index of each channel\n",
    "for channel in range(3):\n",
    "    # Make a subplot\n",
    "    plt.subplot(1,3,channel+1)\n",
    "    # FINISH THE CODE\n",
    "    \n",
    "    # YOUR CODE HERE\n",
    "    raise NotImplementedError()\n",
    "    \n",
    "    plt.grid(False)\n",
    "    plt.title(channel_names[channel])"
   ]
  },
  {
   "cell_type": "markdown",
   "metadata": {
    "deletable": false,
    "editable": false,
    "nbgrader": {
     "cell_type": "markdown",
     "checksum": "44edf8c69731058f1cfe247f8d10a770",
     "grade": false,
     "grade_id": "question2d",
     "locked": true,
     "schema_version": 2,
     "solution": false
    },
    "tags": [
     "written"
    ]
   },
   "source": [
    "#### Question 2d\n",
    "\n",
    "Each image should appear slightly different.  Which one is the blurriest and which is the sharpest?  Write a short description of what you see in the cell below.\n",
    "\n",
    "\n",
    "<img src=\"write.png\" width=\"120px\" align=\"left\" float=\"left\"/> *This icon means you will need to write in text response in the cell below using English.\n",
    "\n",
    "***Hint:** I observe ... .  On possible explanation for this is ... .\n"
   ]
  },
  {
   "cell_type": "markdown",
   "metadata": {
    "deletable": false,
    "nbgrader": {
     "cell_type": "markdown",
     "checksum": "9ec133ce41e685203e5145cbe41d7c59",
     "grade": true,
     "grade_id": "question2d-answer",
     "locked": false,
     "points": 1,
     "schema_version": 2,
     "solution": true
    },
    "tags": [
     "written",
     "solution"
    ]
   },
   "source": [
    "YOUR ANSWER HERE"
   ]
  },
  {
   "cell_type": "markdown",
   "metadata": {
    "deletable": false,
    "editable": false,
    "nbgrader": {
     "cell_type": "markdown",
     "checksum": "e252d3114df4dde790eca749770cb5f2",
     "grade": false,
     "grade_id": "mv-calc",
     "locked": true,
     "schema_version": 2,
     "solution": false
    }
   },
   "source": [
    "## Multivariable Calculus and Linear Algebra\n",
    "\n",
    "The following questions ask you to recall your knowledge of multivariable calculus and linear algebra. We will use some of the most fundamental concepts from each discipline in this class, so the following problems should at least seem familiar to you.\n",
    "\n",
    "For the following problems, you should use LaTeX to format your answer. If you aren't familiar with LaTeX, not to worry. It's not hard to use in a Jupyter notebook. Just place your math in between dollar signs:\n",
    "\n",
    "\\$ f(x) = 2x \\$ becomes $ f(x) = 2x $.\n",
    "\n",
    "If you have a longer equation, use double dollar signs:\n",
    "\n",
    "\\$\\$ \\sum_{i=0}^n i^2 \\$\\$ becomes:\n",
    "\n",
    "$$ \\sum_{i=0}^n i^2 $$.\n",
    "\n",
    "Here are some handy notation:\n",
    "\n",
    "| Output | Latex   |\n",
    "|:--|:--|\n",
    "| $$x^{a + b}$$  | `x^{a + b}` |\n",
    "| $$x_{a + b}$$ | `x_{a + b}` |\n",
    "| $$\\frac{a}{b}$$ | `\\frac{a}{b}` |\n",
    "| $$\\sqrt{a + b}$$ | `\\sqrt{a + b}` |\n",
    "| $$\\{ \\alpha, \\beta, \\gamma, \\pi, \\mu, \\sigma^2  \\}$$ | `\\{ \\alpha, \\beta, \\gamma, \\pi, \\mu, \\sigma^2  \\}` |\n",
    "| $$\\sum_{x=1}^{100}$$ | `\\sum_{x=1}^{100}` |\n",
    "| $$\\frac{\\partial}{\\partial x} $$ | `\\frac{\\partial}{\\partial x} ` |\n",
    "| $$\\begin{bmatrix} 2x + 4y \\\\ 4x + 6y^2 \\\\ \\end{bmatrix}$$ | `\\begin{bmatrix} 2x + 4y \\\\ 4x + 6y^2 \\\\ \\end{bmatrix}`|\n",
    "\n",
    "\n",
    "\n",
    "[For more about basic LaTeX formatting, you can read this article.](https://www.sharelatex.com/learn/Mathematical_expressions)\n",
    "\n",
    "If you have trouble with these topics, we suggest reviewing:\n",
    "\n",
    "- [Khan Academy's Multivariable Calculus](https://www.khanacademy.org/math/multivariable-calculus)\n",
    "- [Khan Academy's Linear Algebra](https://www.khanacademy.org/math/linear-algebra)"
   ]
  },
  {
   "cell_type": "markdown",
   "metadata": {
    "deletable": false,
    "editable": false,
    "nbgrader": {
     "cell_type": "markdown",
     "checksum": "578458b94641a0941893232cce4e3d14",
     "grade": false,
     "grade_id": "question3",
     "locked": true,
     "schema_version": 2,
     "solution": false
    },
    "tags": [
     "written"
    ]
   },
   "source": [
    "### Question 3\n",
    "\n",
    "#### Question 3a\n",
    "\n",
    "Simplify the following expression:\n",
    "\n",
    "$$\n",
    "\\large \\ln \\left( 3 e^{2  x} e^{\\frac{1}{x^2}} \\right)\n",
    "$$\n",
    "\n",
    "<img src=\"write.png\" width=\"120px\" align=\"left\" float=\"left\"/> *This icon means you will need to write in text response in the cell below using English + $\\LaTeX$."
   ]
  },
  {
   "cell_type": "markdown",
   "metadata": {
    "deletable": false,
    "editable": false,
    "nbgrader": {
     "cell_type": "markdown",
     "checksum": "17e548c59d4dd2bcaa8d95a7030cafa7",
     "grade": false,
     "grade_id": "question3a",
     "locked": true,
     "schema_version": 2,
     "solution": false
    },
    "tags": [
     "written",
     "student"
    ]
   },
   "source": [
    "$$\n",
    "\\ln \\left( 3 e^{2  x} e^{\\frac{1}{x^2}} \\right) = \n",
    "\\ldots\n",
    "$$"
   ]
  },
  {
   "cell_type": "markdown",
   "metadata": {
    "deletable": false,
    "nbgrader": {
     "cell_type": "markdown",
     "checksum": "4c3b77adcccaf81e29f87565781130ff",
     "grade": true,
     "grade_id": "question3a-answer",
     "locked": false,
     "points": 1,
     "schema_version": 2,
     "solution": true
    },
    "tags": [
     "written",
     "solution"
    ]
   },
   "source": [
    "YOUR ANSWER HERE"
   ]
  },
  {
   "cell_type": "markdown",
   "metadata": {
    "deletable": false,
    "editable": false,
    "nbgrader": {
     "cell_type": "markdown",
     "checksum": "3ab703085b4fa129f7e4fb80d7cf127d",
     "grade": false,
     "grade_id": "question3b",
     "locked": true,
     "schema_version": 2,
     "solution": false
    },
    "tags": [
     "written"
    ]
   },
   "source": [
    "#### Question 3b\n",
    "\n",
    "\n",
    "Suppose we have the following scalar-valued function on $x$ and $y$:\n",
    "\n",
    "$$ \\Large f(x, y) = x^2 + 4xy + 2y^3 + e^{-3y} + \\ln(2y) $$\n",
    "\n",
    "Compute the partial derivative with respect to $x$.\n",
    "\n",
    "<img src=\"write.png\" width=\"75px\" align=\"left\" float=\"left\"/>"
   ]
  },
  {
   "cell_type": "markdown",
   "metadata": {
    "deletable": false,
    "editable": false,
    "nbgrader": {
     "cell_type": "markdown",
     "checksum": "4f2ef9742fc401480241a6e97a0a27b5",
     "grade": false,
     "grade_id": "question3beq",
     "locked": true,
     "schema_version": 2,
     "solution": false
    },
    "tags": [
     "student",
     "written"
    ]
   },
   "source": [
    "$$ \\frac{\\partial}{\\partial x} f(x,y) = ... $$"
   ]
  },
  {
   "cell_type": "markdown",
   "metadata": {
    "deletable": false,
    "nbgrader": {
     "cell_type": "markdown",
     "checksum": "36adec5346bedc94940aa2e00dfd135c",
     "grade": true,
     "grade_id": "question3b-answer",
     "locked": false,
     "points": 1,
     "schema_version": 2,
     "solution": true
    },
    "tags": [
     "solution"
    ]
   },
   "source": [
    "YOUR ANSWER HERE"
   ]
  },
  {
   "cell_type": "markdown",
   "metadata": {
    "deletable": false,
    "editable": false,
    "nbgrader": {
     "cell_type": "markdown",
     "checksum": "e34c1b66b696c223a5937ac9df854aa3",
     "grade": false,
     "grade_id": "question3c",
     "locked": true,
     "schema_version": 2,
     "solution": false
    },
    "tags": [
     "written"
    ]
   },
   "source": [
    "#### Question 3c\n",
    "\n",
    "\n",
    "Now compute the partial derivative of $f(x,y)$ with respect to $y$:\n",
    "\n",
    "<img src=\"write.png\" width=\"75px\" align=\"left\" float=\"left\"/>"
   ]
  },
  {
   "cell_type": "markdown",
   "metadata": {
    "deletable": false,
    "editable": false,
    "nbgrader": {
     "cell_type": "markdown",
     "checksum": "2ced6a42e57611dd9af1d13858942e14",
     "grade": false,
     "grade_id": "question3ceq",
     "locked": true,
     "schema_version": 2,
     "solution": false
    },
    "tags": [
     "student",
     "written"
    ]
   },
   "source": [
    "$$ \\frac{\\partial}{\\partial y} f(x,y) = ... $$"
   ]
  },
  {
   "cell_type": "markdown",
   "metadata": {
    "deletable": false,
    "nbgrader": {
     "cell_type": "markdown",
     "checksum": "d2d066c48ef0e237bf9046e9e3d46160",
     "grade": true,
     "grade_id": "question3c-answer",
     "locked": false,
     "points": 1,
     "schema_version": 2,
     "solution": true
    },
    "tags": [
     "solution"
    ]
   },
   "source": [
    "YOUR ANSWER HERE"
   ]
  },
  {
   "cell_type": "markdown",
   "metadata": {
    "deletable": false,
    "editable": false,
    "nbgrader": {
     "cell_type": "markdown",
     "checksum": "2d34058989a2c75675476047cff6168c",
     "grade": false,
     "grade_id": "question4",
     "locked": true,
     "schema_version": 2,
     "solution": false
    }
   },
   "source": [
    "### Question 4\n",
    "\n",
    "In this question, we'll ask you to use your linear algebra knowledge to fill in NumPy matrices. To conduct matrix multiplication in NumPy, you should write code like the following:\n",
    "\n",
    "<img src=\"launch.png\" width=\"40px\" align=\"left\" float=\"left\"/>"
   ]
  },
  {
   "cell_type": "code",
   "execution_count": null,
   "metadata": {
    "deletable": false,
    "editable": false,
    "nbgrader": {
     "cell_type": "code",
     "checksum": "d38405314a199c0fe8f75ce2b27aa2c4",
     "grade": false,
     "grade_id": "matA-times-matB",
     "locked": true,
     "schema_version": 2,
     "solution": false
    }
   },
   "outputs": [],
   "source": [
    "# A matrix in NumPy is simply a 2-dimensional NumPy array\n",
    "matA = np.array([\n",
    "    [1, 2, 3],\n",
    "    [4, 5, 6],\n",
    "])\n",
    "\n",
    "matB = np.array([\n",
    "    [10, 11],\n",
    "    [12, 13],\n",
    "    [14, 15],\n",
    "])\n",
    "\n",
    "# The notation B @ v means: compute the matrix multiplication Bv\n",
    "matA @ matB"
   ]
  },
  {
   "cell_type": "markdown",
   "metadata": {
    "deletable": false,
    "editable": false,
    "nbgrader": {
     "cell_type": "markdown",
     "checksum": "1c4bc59ec712d4229ae0eb1bef86e5f5",
     "grade": false,
     "grade_id": "mat-vec-handy",
     "locked": true,
     "schema_version": 2,
     "solution": false
    }
   },
   "source": [
    "You can also use the same syntax to do matrix-vector multiplication or vector dot products. Handy!\n",
    "\n",
    "<img src=\"launch.png\" width=\"40px\" align=\"left\" float=\"left\"/>"
   ]
  },
  {
   "cell_type": "code",
   "execution_count": null,
   "metadata": {
    "deletable": false,
    "editable": false,
    "nbgrader": {
     "cell_type": "code",
     "checksum": "6e01716f847933c47bbdd4dd557afa0c",
     "grade": false,
     "grade_id": "mat-vec-code",
     "locked": true,
     "schema_version": 2,
     "solution": false
    }
   },
   "outputs": [],
   "source": [
    "matA = np.array([\n",
    "    [1, 2, 3],\n",
    "    [4, 5, 6],\n",
    "])\n",
    "\n",
    "# A vector in NumPy is simply a 1-dimensional NumPy array\n",
    "some_vec = np.array([ 10, 12, 14, ])\n",
    "\n",
    "another_vec = np.array([ 10, 20, 30 ])\n",
    "\n",
    "print(matA @ some_vec)\n",
    "print(some_vec @ another_vec)"
   ]
  },
  {
   "cell_type": "markdown",
   "metadata": {
    "deletable": false,
    "editable": false,
    "nbgrader": {
     "cell_type": "markdown",
     "checksum": "308dbeb2f4547a9faa27439c6113fca7",
     "grade": false,
     "grade_id": "question4a",
     "locked": true,
     "schema_version": 2,
     "solution": false
    }
   },
   "source": [
    "#### Question 4a\n",
    "\n",
    "Joey, Deb, and Sam are shopping for fruit at Berkeley Bowl. Berkeley Bowl, true to its name, only sells fruit bowls. A fruit bowl contains some fruit and the price of a fruit bowl is the total price of all of its individual fruit.\n",
    "\n",
    "Berkeley Bowl has apples for \\$2.00, bananas \\$1.00, and cantaloupes \\$4.00 (expensive!). The price of each of these can be written in a vector:\n",
    "\n",
    "$$\n",
    "\\vec{v} = \\begin{bmatrix}\n",
    "     2 \\\\\n",
    "     1 \\\\\n",
    "     4 \\\\\n",
    "\\end{bmatrix}\n",
    "$$\n",
    "\n",
    "Berkeley Bowl sells the following fruit bowls:\n",
    "\n",
    "1. 2 of each fruit\n",
    "2. 5 apples and 8 bananas\n",
    "3. 2 bananas and 3 cantaloupes\n",
    "4. 10 cantaloupes\n",
    "\n",
    "Create a 2-dimensional numpy array encoding the matrix $B$ such that the matrix-vector multiplication\n",
    "\n",
    "$$\n",
    "B\\vec{v}\n",
    "$$\n",
    "\n",
    "evaluates to a length 4 column vector containing the price of each fruit bowl. The first entry of the result should be the cost of fruit bowl #1, the second entry the cost of fruit bowl #2, etc.\n",
    "\n",
    "<img src=\"code.png\" width=\"75px\" align=\"left\" float=\"left\"/>"
   ]
  },
  {
   "cell_type": "code",
   "execution_count": null,
   "metadata": {
    "deletable": false,
    "nbgrader": {
     "cell_type": "code",
     "checksum": "000af1695e9199dc2eaf4515633143f7",
     "grade": false,
     "grade_id": "question4-code",
     "locked": false,
     "schema_version": 2,
     "solution": true
    },
    "tags": [
     "solution"
    ]
   },
   "outputs": [],
   "source": [
    "v = np.array([2,1,4])\n",
    "\n",
    "# Fill in B\n",
    "# B = ...\n",
    "\n",
    "# YOUR CODE HERE\n",
    "raise NotImplementedError()\n",
    "\n",
    "# The notation B @ v means: compute the matrix multiplication Bv\n",
    "B @ v"
   ]
  },
  {
   "cell_type": "code",
   "execution_count": null,
   "metadata": {
    "deletable": false,
    "editable": false,
    "nbgrader": {
     "cell_type": "code",
     "checksum": "89d0d06459aeac3d85941f59c194f17a",
     "grade": true,
     "grade_id": "question4-tests",
     "locked": true,
     "points": 1,
     "schema_version": 2,
     "solution": false
    }
   },
   "outputs": [],
   "source": [
    "assert np.allclose(B @ v, np.array([14, 18, 14, 40]))"
   ]
  },
  {
   "cell_type": "markdown",
   "metadata": {
    "deletable": false,
    "editable": false,
    "nbgrader": {
     "cell_type": "markdown",
     "checksum": "33b462326181b0cdac402fca0925e323",
     "grade": false,
     "grade_id": "question4b",
     "locked": true,
     "schema_version": 2,
     "solution": false
    }
   },
   "source": [
    "#### Question 4b\n",
    "\n",
    "Joey, Deb, and Sam make the following purchases:\n",
    "\n",
    "- Joey buys 2 fruit bowl #1's and 1 fruit bowl #2.\n",
    "- Deb buys 1 of each fruit bowl.\n",
    "- Sam buys 10 fruit bowl #4s (he really like cantaloupes).\n",
    "\n",
    "Create a matrix $A$ such that the matrix expression\n",
    "\n",
    "$$\n",
    "AB\\vec{v}\n",
    "$$\n",
    "\n",
    "evaluates to a length 3 column vector containing how much each of them spent. The first entry of the result should be the total amount spent by Joey, the second entry the amount sent by Deb, etc.\n",
    "\n",
    "<img src=\"code.png\" width=\"75px\" align=\"left\" float=\"left\"/>"
   ]
  },
  {
   "cell_type": "code",
   "execution_count": null,
   "metadata": {
    "deletable": false,
    "nbgrader": {
     "cell_type": "code",
     "checksum": "86666671e9f618ccbd2abb43e36fba9b",
     "grade": false,
     "grade_id": "question4b-code",
     "locked": false,
     "schema_version": 2,
     "solution": true
    },
    "tags": [
     "solution"
    ]
   },
   "outputs": [],
   "source": [
    "A = np.array([\n",
    "    [2, 1, 0, 0],\n",
    "    # Finish this!\n",
    "    \n",
    "    # YOUR CODE HERE\n",
    "    raise NotImplementedError()\n",
    "]) \n",
    "\n",
    "A @ B @ v "
   ]
  },
  {
   "cell_type": "code",
   "execution_count": null,
   "metadata": {
    "deletable": false,
    "editable": false,
    "nbgrader": {
     "cell_type": "code",
     "checksum": "8584432be9f31113bf5414152c66bc68",
     "grade": true,
     "grade_id": "question4b-test",
     "locked": true,
     "points": 1,
     "schema_version": 2,
     "solution": false
    }
   },
   "outputs": [],
   "source": [
    "# The final tests for this question have been hidden.\n"
   ]
  },
  {
   "cell_type": "markdown",
   "metadata": {
    "deletable": false,
    "editable": false,
    "nbgrader": {
     "cell_type": "markdown",
     "checksum": "4feabb7266f67451770b00863632de8f",
     "grade": false,
     "grade_id": "question4c",
     "locked": true,
     "schema_version": 2,
     "solution": false
    },
    "tags": [
     "written"
    ]
   },
   "source": [
    "#### Question 4c\n",
    "\n",
    "Who spent the most money?\n",
    "\n",
    "<img src=\"write.png\" width=\"120px\" align=\"left\" float=\"left\"/> "
   ]
  },
  {
   "cell_type": "markdown",
   "metadata": {
    "deletable": false,
    "nbgrader": {
     "cell_type": "markdown",
     "checksum": "6b04bbf6ee91ccd5a35e8c437f55ae48",
     "grade": true,
     "grade_id": "question4c-answer",
     "locked": false,
     "points": 1,
     "schema_version": 2,
     "solution": true
    },
    "tags": [
     "student",
     "written"
    ]
   },
   "source": [
    "YOUR ANSWER HERE"
   ]
  },
  {
   "cell_type": "markdown",
   "metadata": {
    "deletable": false,
    "editable": false,
    "nbgrader": {
     "cell_type": "markdown",
     "checksum": "06f378e57e0aab496a1fab11e6606242",
     "grade": false,
     "grade_id": "cell-8f8d7cbfb6493af0",
     "locked": true,
     "schema_version": 2,
     "solution": false
    }
   },
   "source": [
    "#### Question 4d\n",
    "\n",
    "Let's suppose Berkeley Bowl changes their fruit prices, but you don't know what they changed their prices to. Joey, Deb, and Sam buy the same quantity of fruit baskets and the number of fruit in each basket is the same, but now they each spent these amounts:\n",
    "\n",
    "$$\n",
    "\\vec{x} = \\begin{bmatrix}\n",
    "    80 \\\\\n",
    "    80 \\\\\n",
    "    100 \\\\\n",
    "\\end{bmatrix}\n",
    "$$\n",
    "\n",
    "Use `np.linalg.inv` and the above final costs to compute the new prices for the individual fruits:\n",
    "\n",
    "<img src=\"code.png\" width=\"75px\" align=\"left\" float=\"left\"/> "
   ]
  },
  {
   "cell_type": "code",
   "execution_count": null,
   "metadata": {
    "deletable": false,
    "nbgrader": {
     "cell_type": "code",
     "checksum": "0cf1a64d0bf392fe5e82d1c2032e9bbd",
     "grade": false,
     "grade_id": "question4d",
     "locked": false,
     "schema_version": 2,
     "solution": true
    },
    "tags": [
     "solution"
    ]
   },
   "outputs": [],
   "source": [
    "# Fill in\n",
    "new_v = ...\n",
    "\n",
    "# YOUR CODE HERE\n",
    "raise NotImplementedError()\n",
    "\n",
    "new_v"
   ]
  },
  {
   "cell_type": "code",
   "execution_count": null,
   "metadata": {
    "deletable": false,
    "editable": false,
    "nbgrader": {
     "cell_type": "code",
     "checksum": "e44423cf57d9c9ca5cf10368d2b74fb3",
     "grade": true,
     "grade_id": "question4d-test",
     "locked": true,
     "points": 1,
     "schema_version": 2,
     "solution": false
    }
   },
   "outputs": [],
   "source": [
    "assert np.allclose(new_v, np.array([ 5.5,  2.20833333,  1.]))"
   ]
  },
  {
   "cell_type": "markdown",
   "metadata": {
    "deletable": false,
    "editable": false,
    "nbgrader": {
     "cell_type": "markdown",
     "checksum": "4c06d0bc88e71228e96364056b30d65a",
     "grade": false,
     "grade_id": "submission-instructions",
     "locked": true,
     "schema_version": 2,
     "solution": false
    }
   },
   "source": [
    "# Submission\n",
    "\n",
    "You're done!\n",
    "\n",
    "In order to turn in this assignment, submit this notebook to the Data 100 datahub at http://data100.datahub.berkeley.edu. \n",
    "\n",
    "You will need to upload this notebook and any associated files to datahub manually if you have completed this assignment on your local machine. Detailed instructions for how to submit on Datahub can be found at http://www.ds100.org/sp18/materials.\n",
    "\n",
    "Remember to click 'Validate' for this assignment before submitting. After clicking 'Submit', you can verify there is a time-stamped submission under 'Submitted assignments'."
   ]
  }
 ],
 "metadata": {
  "kernelspec": {
   "display_name": "Python 3",
   "language": "python",
   "name": "python3"
  },
  "language_info": {
   "codemirror_mode": {
    "name": "ipython",
    "version": 3
   },
   "file_extension": ".py",
   "mimetype": "text/x-python",
   "name": "python",
   "nbconvert_exporter": "python",
   "pygments_lexer": "ipython3",
   "version": "3.6.4"
  },
  "toc": {
   "colors": {
    "hover_highlight": "#DAA520",
    "running_highlight": "#FF0000",
    "selected_highlight": "#FFD700"
   },
   "moveMenuLeft": true,
   "nav_menu": {
    "height": "512px",
    "width": "252px"
   },
   "navigate_menu": true,
   "number_sections": true,
   "sideBar": true,
   "threshold": 4,
   "toc_cell": true,
   "toc_section_display": "none",
   "toc_window_display": true
  }
 },
 "nbformat": 4,
 "nbformat_minor": 2
}
