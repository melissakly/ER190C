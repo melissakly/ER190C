{
 "cells": [
  {
   "cell_type": "markdown",
   "metadata": {},
   "source": [
    "Before you turn this problem in, make sure everything runs as expected. First, **restart the kernel** (in the menubar, select Kernel$\\rightarrow$Restart) and then **run all cells** (in the menubar, select Cell$\\rightarrow$Run All). Lastly, hit **Validate**.\n",
    "\n",
    "If you worked locally, and then uploaded your work to the hub, make sure to follow these steps:\n",
    "- open your uploaded notebook **on the hub**\n",
    "- hit the validate button right above this cell, from inside the notebook\n",
    "\n",
    "These  steps should solve any issue related to submitting the notebook on the hub.\n",
    "\n",
    "Make sure you fill in any place that says `YOUR CODE HERE` or \"YOUR ANSWER HERE\", as well as your name and collaborators below:"
   ]
  },
  {
   "cell_type": "code",
   "execution_count": null,
   "metadata": {},
   "outputs": [],
   "source": [
    "NAME = \"\"\n",
    "COLLABORATORS = \"\""
   ]
  },
  {
   "cell_type": "markdown",
   "metadata": {},
   "source": [
    "---"
   ]
  },
  {
   "cell_type": "markdown",
   "metadata": {
    "deletable": false,
    "editable": false,
    "nbgrader": {
     "cell_type": "markdown",
     "checksum": "47958a220565bab6afdab7bc43d45497",
     "grade": false,
     "grade_id": "introduction",
     "locked": true,
     "schema_version": 2,
     "solution": false
    }
   },
   "source": [
    "# Homework 3: EDA of Bike Sharing\n",
    "\n",
    "## Course Policies\n",
    "\n",
    "**Collaboration Policy**\n",
    "\n",
    "Data science is a collaborative activity. While you may talk with others about\n",
    "the homework, we ask that you **write your solutions individually**. If you do\n",
    "discuss the assignments with others please **include their names** at the top\n",
    "of your solution.\n",
    "\n",
    "## Due Date\n",
    "\n",
    "** This assignment is due Tuesday, February 13 at 11:59pm **\n",
    "\n",
    "## Introduction\n",
    "\n",
    "After completing this assignment, you should be comfortable with:\n",
    "\n",
    "* reading plaintext delimited data into `pandas`\n",
    "* wrangling data for analysis\n",
    "* using EDA to learn about your data \n",
    "* making informative plots\n",
    "\n",
    "This assignment includes both specific tasks to perform and open-ended questions to investigate. The open-ended questions ask you to think creatively and critically about how the plots you have created provide insight into the data.\n",
    "\n",
    "There are four parts to this assignment: \n",
    "* data preparation\n",
    "* exploring the distribution of riders\n",
    "* exploring the relationship between time and rider counts\n",
    "* and exploring the relationship between weather and rider counts. \n",
    "\n",
    "In each section, you are given specific data cleaning tasks and/or a plot to reproduce.  "
   ]
  },
  {
   "cell_type": "code",
   "execution_count": null,
   "metadata": {
    "deletable": false,
    "editable": false,
    "nbgrader": {
     "cell_type": "code",
     "checksum": "8d4c9e7f8c5c396a50551ca31ad8115b",
     "grade": false,
     "grade_id": "setup",
     "locked": true,
     "schema_version": 2,
     "solution": false
    }
   },
   "outputs": [],
   "source": [
    "# Run this cell to set up your notebook.  Make sure utils.py is in this assignment's folder\n",
    "\n",
    "import seaborn as sns\n",
    "import csv\n",
    "import numpy as np\n",
    "import pandas as pd\n",
    "import matplotlib.pyplot as plt\n",
    "import zipfile\n",
    "from pathlib import Path\n",
    "import utils\n",
    "\n",
    "# Default plot configurations\n",
    "%matplotlib inline\n",
    "plt.rcParams['figure.figsize'] = (16,8)\n",
    "plt.rcParams['figure.dpi'] = 150\n",
    "sns.set()\n",
    "\n",
    "from IPython.display import display, Latex, Markdown\n"
   ]
  },
  {
   "cell_type": "markdown",
   "metadata": {
    "deletable": false,
    "editable": false,
    "nbgrader": {
     "cell_type": "markdown",
     "checksum": "8f2b43d94ea3f34a988f85eb621df8bc",
     "grade": false,
     "grade_id": "codebook",
     "locked": true,
     "schema_version": 2,
     "solution": false
    }
   },
   "source": [
    "## Loading Bike Sharing Data\n",
    "The data we are exploring is data on bike sharing in Washington D.C.\n",
    "\n",
    "The variables in this data frame are defined as:\n",
    "\n",
    "Variable       | Description\n",
    "-------------- | ------------------------------------------------------------------\n",
    "instant | record index\n",
    "dteday | date\n",
    "season | 1. spring <br> 2. summer <br> 3. fall <br> 4. winter\n",
    "yr | year (0: 2011, 1:2012)\n",
    "mnth | month ( 1 to 12)\n",
    "hr | hour (0 to 23)\n",
    "holiday | whether day is holiday or not\n",
    "weekday | day of the week\n",
    "workingday | if day is neither weekend nor holiday\n",
    "weathersit | 1. clear or partly cloudy <br> 2. mist and clouds <br> 3. light snow or rain <br> 4. heavy rain or snow\n",
    "temp | normalized temperature in Celsius (divided by 41)\n",
    "atemp | normalized \"feels-like\" temperature in Celsius (divided by 50)\n",
    "hum | normalized percent humidity (divided by 100)\n",
    "windspeed| normalized wind speed (divided by 67)\n",
    "casual | count of casual users\n",
    "registered | count of registered users\n",
    "cnt | count of total rental bikes including casual and registered  "
   ]
  },
  {
   "cell_type": "markdown",
   "metadata": {},
   "source": [
    "### Download the Data"
   ]
  },
  {
   "cell_type": "code",
   "execution_count": null,
   "metadata": {
    "deletable": false,
    "editable": false,
    "nbgrader": {
     "cell_type": "code",
     "checksum": "81a18f3c065fdef27ad8764b60e89c2d",
     "grade": false,
     "grade_id": "download_data",
     "locked": true,
     "schema_version": 2,
     "solution": false
    }
   },
   "outputs": [],
   "source": [
    "# Run this cell to download the data.  No further action is needed\n",
    "\n",
    "data_url = 'https://github.com/DS-100/sp18/raw/gh-pages/assets/datasets/hw3-bikeshare.zip'\n",
    "file_name = 'data.zip'\n",
    "data_dir = '.'\n",
    "\n",
    "dest_path = utils.fetch_and_cache(data_url=data_url, data_dir=data_dir, file=file_name)\n",
    "print('Saved at {}'.format(dest_path))\n",
    "\n",
    "zipped_data = zipfile.ZipFile(dest_path, 'r')\n",
    "\n",
    "data_dir = Path('data')\n",
    "zipped_data.extractall(data_dir)\n",
    "\n",
    "\n",
    "print(\"Extracted Files:\")\n",
    "for f in data_dir.glob(\"*\"):\n",
    "    print(\"\\t\",f)"
   ]
  },
  {
   "cell_type": "markdown",
   "metadata": {
    "deletable": false,
    "editable": false,
    "nbgrader": {
     "cell_type": "markdown",
     "checksum": "da6fe496f7f4a7b3df6378e9774ec80c",
     "grade": false,
     "grade_id": "examine-contents",
     "locked": true,
     "schema_version": 2,
     "solution": false
    }
   },
   "source": [
    "### Examining the file contents\n",
    "\n",
    "Can you identify the file format? (No answer required.)"
   ]
  },
  {
   "cell_type": "code",
   "execution_count": null,
   "metadata": {
    "deletable": false,
    "editable": false,
    "nbgrader": {
     "cell_type": "code",
     "checksum": "63706f0ab20295034d73ae6a0da417cf",
     "grade": false,
     "grade_id": "examine-content-code",
     "locked": true,
     "schema_version": 2,
     "solution": false
    }
   },
   "outputs": [],
   "source": [
    "# Run this cell to look at the top of the file.  No further action is needed\n",
    "for line in utils.head(data_dir/'bikeshare.txt'):\n",
    "    print(line,end=\"\")"
   ]
  },
  {
   "cell_type": "markdown",
   "metadata": {
    "deletable": false,
    "editable": false,
    "nbgrader": {
     "cell_type": "markdown",
     "checksum": "53ae5f16e09d9edd6761fa93657b9e22",
     "grade": false,
     "grade_id": "examine-size",
     "locked": true,
     "schema_version": 2,
     "solution": false
    }
   },
   "source": [
    "### Size\n",
    "Is the file big?  How many records do we expect to find? (No answers required.)"
   ]
  },
  {
   "cell_type": "code",
   "execution_count": null,
   "metadata": {
    "deletable": false,
    "editable": false,
    "nbgrader": {
     "cell_type": "code",
     "checksum": "d380f103084e655050d3ab82bfa6a126",
     "grade": false,
     "grade_id": "examine-size-code",
     "locked": true,
     "schema_version": 2,
     "solution": false
    }
   },
   "outputs": [],
   "source": [
    "# Run this cell to view some metadata.  No further action is needed\n",
    "print(\"Size:\", (data_dir/\"bikeshare.txt\").stat().st_size, \"bytes\")\n",
    "print(\"Line Count:\", utils.line_count(data_dir/\"bikeshare.txt\"), \"lines\")"
   ]
  },
  {
   "cell_type": "markdown",
   "metadata": {
    "deletable": false,
    "editable": false,
    "nbgrader": {
     "cell_type": "markdown",
     "checksum": "77981877b3766ee1827e9e14673d2599",
     "grade": false,
     "grade_id": "load-data",
     "locked": true,
     "schema_version": 2,
     "solution": false
    }
   },
   "source": [
    "### Loading the data\n",
    "\n",
    "The following code loads the data into a Pandas DataFrame."
   ]
  },
  {
   "cell_type": "code",
   "execution_count": null,
   "metadata": {
    "deletable": false,
    "editable": false,
    "nbgrader": {
     "cell_type": "code",
     "checksum": "133f29cfad2087071079fd9ade068099",
     "grade": false,
     "grade_id": "load-data-code",
     "locked": true,
     "schema_version": 2,
     "solution": false
    }
   },
   "outputs": [],
   "source": [
    "# Run this cell to load the data.  No further action is needed\n",
    "bike = pd.read_csv(data_dir/'bikeshare.txt')\n",
    "bike.head()"
   ]
  },
  {
   "cell_type": "markdown",
   "metadata": {
    "deletable": false,
    "editable": false,
    "nbgrader": {
     "cell_type": "markdown",
     "checksum": "24b9d1a30dc47bba2032e5902f922f58",
     "grade": false,
     "grade_id": "q1",
     "locked": true,
     "schema_version": 2,
     "solution": false
    }
   },
   "source": [
    "## 1. Data Preparation\n",
    "A few of the variables that are numeric/integer actually encode categorical data. These include `holiday`, `weekday`, `workingday`, and `weathersit`. In the following problem, we will convert these four variables to strings specifying the categories. In particular, use 3-letter labels (`Sun`, `Mon`, `Tue`, `Wed`, `Thu`, `Fri`, and `Sat`) for `weekday`. You may simply use `yes`/`no` for `holiday` and `workingday`. \n",
    "\n",
    "In this exercise we will *mutate* the data frame, **overwriting the corresponding variables in the data frame.** However, be sure to document the data transformation and leave the underlying datafile `bikeshare.txt` unmodified."
   ]
  },
  {
   "cell_type": "markdown",
   "metadata": {
    "deletable": false,
    "editable": false,
    "nbgrader": {
     "cell_type": "markdown",
     "checksum": "e93c58d6bb90a41ccd3e6fe6dc481082",
     "grade": false,
     "grade_id": "q1a",
     "locked": true,
     "schema_version": 2,
     "solution": false
    }
   },
   "source": [
    "#### Question 1a (Decoding `weekday`, `workingday`, and `weathersit`)\n",
    "\n",
    "\n",
    "Decode the `holiday`, `weekday`, `workingday`, and `weathersit` fields:\n",
    "\n",
    "1. `holiday`: Convert to `yes` and `no`.  Hint: There are fewer holidays...\n",
    "1. `weekday`: It turns out that Monday is the day with the most holidays.  Mutate the `'weekday'` column to use the 3-letter label (`'Sun'`, `'Mon'`, `'Tue'`, `'Wed'`, `'Thu'`, `'Fri'`, and `'Sat'` ...) instead of its current numerical values.\n",
    "1. `workingday`: Convert to `yes` and `no`.\n",
    "1. `weathersit`: You should replace each value with one of `Clear`, `Mist`, `Light`, or `Heavy`."
   ]
  },
  {
   "cell_type": "code",
   "execution_count": null,
   "metadata": {
    "deletable": false,
    "nbgrader": {
     "cell_type": "code",
     "checksum": "834cfcd9fb5b9e935c6b0b44c48b7e21",
     "grade": false,
     "grade_id": "q1a-answer",
     "locked": false,
     "schema_version": 2,
     "solution": true
    },
    "tags": [
     "student"
    ]
   },
   "outputs": [],
   "source": [
    "# Modify holiday weekday, workingday, and weathersit here\n",
    "# Hint: one strategy involves df.replace(...)\n",
    "\n",
    "# YOUR CODE HERE\n",
    "raise NotImplementedError()"
   ]
  },
  {
   "cell_type": "code",
   "execution_count": null,
   "metadata": {
    "deletable": false,
    "editable": false,
    "nbgrader": {
     "cell_type": "code",
     "checksum": "7ce564e84e9440199da83f5f6b83dadf",
     "grade": true,
     "grade_id": "q1a-tests",
     "locked": true,
     "points": 1,
     "schema_version": 2,
     "solution": false
    },
    "tags": [
     "solution"
    ]
   },
   "outputs": [],
   "source": [
    "assert isinstance(bike, pd.DataFrame)\n",
    "assert bike['holiday'].dtype == np.dtype('O')\n",
    "assert list(bike['holiday'].iloc[370:375]) == ['no', 'no', 'yes', 'yes', 'yes']\n",
    "assert bike['weekday'].dtype == np.dtype('O')\n",
    "assert bike['workingday'].dtype == np.dtype('O')\n",
    "assert bike['weathersit'].dtype == np.dtype('O')\n"
   ]
  },
  {
   "cell_type": "markdown",
   "metadata": {
    "deletable": false,
    "editable": false,
    "nbgrader": {
     "cell_type": "markdown",
     "checksum": "b808ce070580ea28b82f2397dfa7a198",
     "grade": false,
     "grade_id": "q1b",
     "locked": true,
     "schema_version": 2,
     "solution": false
    }
   },
   "source": [
    "#### Question 1b (Holidays)\n",
    "\n",
    "How many entries in the data correspond to holidays?  Set the variable `num_holidays` to this value."
   ]
  },
  {
   "cell_type": "code",
   "execution_count": null,
   "metadata": {
    "deletable": false,
    "nbgrader": {
     "cell_type": "code",
     "checksum": "802c4ee8ae768cb5debe73f65411ad77",
     "grade": false,
     "grade_id": "q1b-answer",
     "locked": false,
     "schema_version": 2,
     "solution": true
    }
   },
   "outputs": [],
   "source": [
    "num_holidays = ...\n",
    "\n",
    "# YOUR CODE HERE\n",
    "raise NotImplementedError()"
   ]
  },
  {
   "cell_type": "code",
   "execution_count": null,
   "metadata": {
    "deletable": false,
    "editable": false,
    "nbgrader": {
     "cell_type": "code",
     "checksum": "1d130792ebfa2f74a3f5b8ff3c30ed4e",
     "grade": true,
     "grade_id": "q1b-tests",
     "locked": true,
     "points": 1,
     "schema_version": 2,
     "solution": false
    }
   },
   "outputs": [],
   "source": [
    "assert 400 <= num_holidays <= 550\n"
   ]
  },
  {
   "cell_type": "markdown",
   "metadata": {
    "deletable": false,
    "editable": false,
    "nbgrader": {
     "cell_type": "markdown",
     "checksum": "80b0a01cb45f19ce37bdd5b0b52b096e",
     "grade": false,
     "grade_id": "q1c",
     "locked": true,
     "schema_version": 2,
     "solution": false
    }
   },
   "source": [
    "#### Question 1c (Computing Daily Total Counts)\n",
    "\n",
    "The granularity of this data is at the hourly level.  However, for some of the analysis we will also want to compute daily statistics.  In particular, in the next few questions we will be analyzing the daily number of registered and unregistered users.\n",
    "\n",
    "Construct a data frame with the following columns:\n",
    "* `casual`: total number of casual riders for each day\n",
    "* `registered`: total number of registered riders for each day\n",
    "* `workingday`: whether that day is a working day or not (`yes` or `no`)\n",
    "\n",
    "Hint: `groupby` and `aggregate`.  `aggregate` admits the `sum` and `'last'` aggregation operators. "
   ]
  },
  {
   "cell_type": "code",
   "execution_count": null,
   "metadata": {
    "deletable": false,
    "nbgrader": {
     "cell_type": "code",
     "checksum": "49cf7732e9191e5be0fa79e868111ae4",
     "grade": false,
     "grade_id": "q1c-answer",
     "locked": false,
     "schema_version": 2,
     "solution": true
    },
    "tags": [
     "student"
    ]
   },
   "outputs": [],
   "source": [
    "daily_counts = ...\n",
    "\n",
    "# YOUR CODE HERE\n",
    "raise NotImplementedError()"
   ]
  },
  {
   "cell_type": "code",
   "execution_count": null,
   "metadata": {
    "deletable": false,
    "editable": false,
    "nbgrader": {
     "cell_type": "code",
     "checksum": "b18529a4acbd9bacbd79b77504133988",
     "grade": true,
     "grade_id": "q1c-tests",
     "locked": true,
     "points": 1,
     "schema_version": 2,
     "solution": false
    },
    "tags": [
     "solution"
    ]
   },
   "outputs": [],
   "source": [
    "assert np.round(daily_counts['casual'].mean()) == 848.0\n",
    "assert np.round(daily_counts['casual'].var()) == 471450.0\n"
   ]
  },
  {
   "cell_type": "markdown",
   "metadata": {
    "deletable": false,
    "editable": false,
    "nbgrader": {
     "cell_type": "markdown",
     "checksum": "0d353f245e9c56d0d3eddbd81e94f9d2",
     "grade": false,
     "grade_id": "q2",
     "locked": true,
     "schema_version": 2,
     "solution": false
    }
   },
   "source": [
    "## 2. Exploring the Distribution of Riders\n",
    "\n",
    "Let's begin by comparing the distribution of the daily counts of casual and registered riders.  "
   ]
  },
  {
   "cell_type": "markdown",
   "metadata": {
    "deletable": false,
    "editable": false,
    "nbgrader": {
     "cell_type": "markdown",
     "checksum": "a4ce1fd9a1c79557cf11db6af8d89974",
     "grade": false,
     "grade_id": "q2a",
     "locked": true,
     "schema_version": 2,
     "solution": false
    }
   },
   "source": [
    "### Question 2a\n",
    "\n",
    "Use the [`sns.distplot`](https://seaborn.pydata.org/generated/seaborn.distplot.html) function to create a plot that overlays the distribution of the daily counts of `casual` and `registered` users. The temporal granularity of the records should be daily counts, which you should have after completing question 1c.\n",
    "\n",
    "You may want to quickly review the [seaborn plotting tutorial](https://seaborn.pydata.org/tutorial/distributions.html).\n",
    "\n",
    "**Hint:** *Don't forget to set the `plt.xlabel` as well as the labels for each distribution.*"
   ]
  },
  {
   "cell_type": "code",
   "execution_count": null,
   "metadata": {
    "deletable": false,
    "nbgrader": {
     "cell_type": "code",
     "checksum": "80b0d28919548901c578ad5d7cde92ba",
     "grade": true,
     "grade_id": "q2a-answer",
     "locked": false,
     "points": 2,
     "schema_version": 2,
     "solution": true
    },
    "tags": [
     "student"
    ]
   },
   "outputs": [],
   "source": [
    "...\n",
    "\n",
    "# YOUR CODE HERE\n",
    "raise NotImplementedError()"
   ]
  },
  {
   "cell_type": "markdown",
   "metadata": {
    "deletable": false,
    "editable": false,
    "nbgrader": {
     "cell_type": "markdown",
     "checksum": "0e8420ec39eaca066faa29d01a72a35c",
     "grade": false,
     "grade_id": "q2b",
     "locked": true,
     "schema_version": 2,
     "solution": false
    }
   },
   "source": [
    "### Question 2b\n",
    "\n",
    "Describe the differences you notice between the density curves for casual and registered riders.  Consider concepts such as modes, symmetry, skewness, tails, gaps and outliers.  Include a comment on the spread of the distributions."
   ]
  },
  {
   "cell_type": "markdown",
   "metadata": {
    "deletable": false,
    "nbgrader": {
     "cell_type": "markdown",
     "checksum": "d6f677ee249f03b24224f26d8f09086e",
     "grade": true,
     "grade_id": "q2b-answer",
     "locked": false,
     "points": 5,
     "schema_version": 2,
     "solution": true
    },
    "tags": [
     "student",
     "written"
    ]
   },
   "source": [
    "YOUR ANSWER HERE"
   ]
  },
  {
   "cell_type": "markdown",
   "metadata": {
    "deletable": false,
    "editable": false,
    "nbgrader": {
     "cell_type": "markdown",
     "checksum": "32cc74f2a4a73792f6ecd79bdd2d25c3",
     "grade": false,
     "grade_id": "q2c",
     "locked": true,
     "schema_version": 2,
     "solution": false
    }
   },
   "source": [
    "### Question 2c\n",
    "\n",
    "The density plots do not show us how the daily counts for registered and casual riders vary together. Use [`sns.lmplot`](https://seaborn.pydata.org/generated/seaborn.lmplot.html) to make a scatter plot to investigate the relationship between casual and registered counts. Color the points in the scatterplot according to whether or not the day is working day. There are many points in the scatter plot so make them small to help with over plotting.\n",
    "\n",
    "* **Hint 1:** *Checkout this helpful [tutorial on `lmplot`](https://seaborn.pydata.org/tutorial/regression.html)*.\n",
    "\n",
    "* **Hint 2:** *You will need to set `x`, `y`, and `hue` and the `scatter_kws`*."
   ]
  },
  {
   "cell_type": "code",
   "execution_count": null,
   "metadata": {
    "deletable": false,
    "nbgrader": {
     "cell_type": "code",
     "checksum": "2b62083a87229bbe3c6f5c3cdd4dd152",
     "grade": true,
     "grade_id": "q2c-answer",
     "locked": false,
     "points": 2,
     "schema_version": 2,
     "solution": true
    },
    "tags": [
     "student",
     "written"
    ]
   },
   "outputs": [],
   "source": [
    "# Make the font size a bit bigger\n",
    "sns.set(font_scale=1.5)\n",
    "\n",
    "...\n",
    "\n",
    "# YOUR CODE HERE\n",
    "raise NotImplementedError()"
   ]
  },
  {
   "cell_type": "markdown",
   "metadata": {
    "deletable": false,
    "editable": false,
    "nbgrader": {
     "cell_type": "markdown",
     "checksum": "60e93a95384344b23b48e36af69cce15",
     "grade": false,
     "grade_id": "q2d",
     "locked": true,
     "schema_version": 2,
     "solution": false
    }
   },
   "source": [
    "### Question 2d\n",
    "\n",
    "What does this scatterplot seem to reveal about the relationship (if any) between casual and registered riders and whether or not the day is on the weekend?\n",
    "Why might we be concerned with overplotting in examining this relationship? \n"
   ]
  },
  {
   "cell_type": "markdown",
   "metadata": {
    "deletable": false,
    "nbgrader": {
     "cell_type": "markdown",
     "checksum": "cf857e87d8394b529047c111d4a66453",
     "grade": true,
     "grade_id": "q2d-answer",
     "locked": false,
     "points": 2,
     "schema_version": 2,
     "solution": true
    },
    "tags": [
     "student",
     "written"
    ]
   },
   "source": [
    "YOUR ANSWER HERE"
   ]
  },
  {
   "cell_type": "markdown",
   "metadata": {
    "deletable": false,
    "editable": false,
    "nbgrader": {
     "cell_type": "markdown",
     "checksum": "6a9f46a58c6f58821a6d655807e762c6",
     "grade": false,
     "grade_id": "q3a",
     "locked": true,
     "schema_version": 2,
     "solution": false
    }
   },
   "source": [
    "## Question 3\n",
    "\n",
    "### Question 3a Bivariate Kernel Density Plot\n",
    " \n",
    "The scatter plot you made in question 2c makes clear the separation between the work days and non-work days.  However, the overplotting\n",
    "makes it difficult to see the density of the joint counts. To address this\n",
    "issue, let's try visualizing the data with another technique, the kernel density plot.\n",
    "\n",
    "You will want to read up on the documentation for `sns.kdeplot` which can be found at https://seaborn.pydata.org/generated/seaborn.kdeplot.html\n",
    "\n",
    "The result we wish to achieve should be a plot that looks like this:\n",
    "\n",
    "<img src='images/bivariate_kde_of_daily_rider_types.png' width=\"600px\" />\n",
    "\n",
    "Making this plot can be complicated so we will provide a walkthrough below, feel free to use whatever method you wish however if you do not want to follow the walkthrough.\n",
    "\n",
    "* **Hint 1:** *You will need to make more than one KDE plot.*\n",
    "* **Hint 2:** *You will want to set the `cmap` to `\"Reds\"` and `\"Blues\"` or at least two contrasting colors. *"
   ]
  },
  {
   "cell_type": "code",
   "execution_count": null,
   "metadata": {
    "deletable": false,
    "nbgrader": {
     "cell_type": "code",
     "checksum": "0990e3ce461f1493675ae228f35bb14f",
     "grade": true,
     "grade_id": "q3a-answer",
     "locked": false,
     "points": 1,
     "schema_version": 2,
     "solution": true
    },
    "tags": [
     "student",
     "written"
    ]
   },
   "outputs": [],
   "source": [
    "# Set 'ind' to a boolean condition that will allow you to filter daily_counts for rows corresponding to workingdays\n",
    "ind = ...\n",
    "\n",
    "# Bivariate KDEs require two data inputs. \n",
    "# In this case, we will need the daily counts for casual and registered riders on weekdays\n",
    "# Hint: use loc and ind to splice out the relevant rows and column (casual/registered)\n",
    "casual_weekday = ...\n",
    "registered_weekday = ...\n",
    "\n",
    "# Use sns.kdeplot to plot the bivariate KDE for weekday rides\n",
    "\n",
    "# Repeat the same steps above but for rows corresponding to non-workingdays\n",
    "casual_weekend = ...\n",
    "registered_weekend = ...\n",
    "\n",
    "# YOUR CODE HERE\n",
    "raise NotImplementedError()"
   ]
  },
  {
   "cell_type": "markdown",
   "metadata": {
    "deletable": false,
    "editable": false,
    "nbgrader": {
     "cell_type": "markdown",
     "checksum": "56244caf205ad92d10ca400867cea5ee",
     "grade": false,
     "grade_id": "q3b",
     "locked": true,
     "schema_version": 2,
     "solution": false
    }
   },
   "source": [
    "### Question 3b\n",
    "\n",
    "What does the contour plot reveal about the relationship between casual and registered riders for both work days and non-work days? How is it an improvement over the scatter plot you created in Q2c?"
   ]
  },
  {
   "cell_type": "markdown",
   "metadata": {
    "deletable": false,
    "nbgrader": {
     "cell_type": "markdown",
     "checksum": "1d4e10d1661f1b6091ac4fe1631347e1",
     "grade": true,
     "grade_id": "q3b-answer",
     "locked": false,
     "points": 3,
     "schema_version": 2,
     "solution": true
    },
    "tags": [
     "student",
     "written"
    ]
   },
   "source": [
    "YOUR ANSWER HERE"
   ]
  },
  {
   "cell_type": "markdown",
   "metadata": {
    "deletable": false,
    "editable": false,
    "nbgrader": {
     "cell_type": "markdown",
     "checksum": "e3026236252e3fc462d98b185fcd7e30",
     "grade": false,
     "grade_id": "q3c",
     "locked": true,
     "schema_version": 2,
     "solution": false
    }
   },
   "source": [
    "### Question 3c\n",
    "\n",
    "As an alternative approach, construct the following set of three plots where the main plot shows the contours of the kernel density estimate of daily counts for registered and casual riders and the two \"margin\" plots provide the univariate kernel density estimate of each of these variables. \n",
    "\n",
    "<img src=\"images/joint_distribution_of_daily_rider_types.png\" width=\"600px\" />\n",
    "\n",
    "Hints:\n",
    "* Take a look at `sns.jointplot` and its `kind` parameter. \n",
    "* `set_axis_labels` can be used to rename axes"
   ]
  },
  {
   "cell_type": "code",
   "execution_count": null,
   "metadata": {
    "deletable": false,
    "nbgrader": {
     "cell_type": "code",
     "checksum": "5bfefc7a6cf5b10898ce1d851a034574",
     "grade": true,
     "grade_id": "q3c-answer",
     "locked": false,
     "points": 1,
     "schema_version": 2,
     "solution": true
    },
    "tags": [
     "student",
     "written"
    ]
   },
   "outputs": [],
   "source": [
    "...\n",
    "\n",
    "# YOUR CODE HERE\n",
    "raise NotImplementedError()"
   ]
  },
  {
   "cell_type": "markdown",
   "metadata": {
    "deletable": false,
    "editable": false,
    "nbgrader": {
     "cell_type": "markdown",
     "checksum": "320925ad4149fbd6372e4357b2ae16d1",
     "grade": false,
     "grade_id": "q4a",
     "locked": true,
     "schema_version": 2,
     "solution": false
    }
   },
   "source": [
    "## 4. Exploring Ride Sharing and Time\n",
    "\n",
    "### Question 4a\n",
    "\n",
    "Plot number of riders for each hour of each day in the month of June in 2011. \n",
    "\n",
    "Make sure to add descriptive x-axis and y-axis labels and create a legend to distinguish the line for casual riders and the line for registered riders. The end result should look like this:\n",
    "\n",
    "<img src=\"images/june_riders.png\" width=\"600px\" />"
   ]
  },
  {
   "cell_type": "code",
   "execution_count": null,
   "metadata": {
    "deletable": false,
    "nbgrader": {
     "cell_type": "code",
     "checksum": "a2a008b9cf86d7ea6ad0cb0624a7c7c1",
     "grade": true,
     "grade_id": "q4a-answer",
     "locked": false,
     "points": 2,
     "schema_version": 2,
     "solution": true
    },
    "tags": [
     "student",
     "written"
    ]
   },
   "outputs": [],
   "source": [
    "...\n",
    "\n",
    "# YOUR CODE HERE\n",
    "raise NotImplementedError()"
   ]
  },
  {
   "cell_type": "markdown",
   "metadata": {
    "deletable": false,
    "editable": false,
    "nbgrader": {
     "cell_type": "markdown",
     "checksum": "7863a9c5db4a7f263a6d0f7b4c3f2de5",
     "grade": false,
     "grade_id": "q4b",
     "locked": true,
     "schema_version": 2,
     "solution": false
    }
   },
   "source": [
    "#### Question 4b\n",
    "\n",
    "This plot has several interesting features. How do the number of casual and registered riders compare for different days of the month? What is an interesting trend and pattern you notice between the lines?"
   ]
  },
  {
   "cell_type": "markdown",
   "metadata": {
    "deletable": false,
    "nbgrader": {
     "cell_type": "markdown",
     "checksum": "e8789d7f9b0fdcadfd550862c41cc71e",
     "grade": true,
     "grade_id": "q4b-answer",
     "locked": false,
     "points": 2,
     "schema_version": 2,
     "solution": true
    },
    "tags": [
     "student",
     "written"
    ]
   },
   "source": [
    "YOUR ANSWER HERE"
   ]
  },
  {
   "cell_type": "markdown",
   "metadata": {
    "deletable": false,
    "editable": false,
    "nbgrader": {
     "cell_type": "markdown",
     "checksum": "e58ea0c0235915ca92c6fa1fa7e547fd",
     "grade": false,
     "grade_id": "q5a",
     "locked": true,
     "schema_version": 2,
     "solution": false
    }
   },
   "source": [
    "## 5. Understanding Daily Patterns\n",
    "\n",
    "### Question 5a\n",
    "Let's examine the behavior of riders by plotting the average number of riders for each hour of the day over the entire dataset, stratified by rider type.  \n",
    "\n",
    "Your plot should look like the following:\n",
    "\n",
    "<img src=\"images/diurnal_bikes.png\" width=\"600px\"/>"
   ]
  },
  {
   "cell_type": "code",
   "execution_count": null,
   "metadata": {
    "deletable": false,
    "nbgrader": {
     "cell_type": "code",
     "checksum": "7d3095fee5ac8ca5547cd68c1ca554f5",
     "grade": true,
     "grade_id": "q5a-answer",
     "locked": false,
     "points": 1,
     "schema_version": 2,
     "solution": true
    },
    "tags": [
     "student",
     "written"
    ]
   },
   "outputs": [],
   "source": [
    "...\n",
    "\n",
    "# YOUR CODE HERE\n",
    "raise NotImplementedError()"
   ]
  },
  {
   "cell_type": "markdown",
   "metadata": {
    "deletable": false,
    "editable": false,
    "nbgrader": {
     "cell_type": "markdown",
     "checksum": "96c53c3274e5e35f22cd591d52c87be6",
     "grade": false,
     "grade_id": "q5b",
     "locked": true,
     "schema_version": 2,
     "solution": false
    }
   },
   "source": [
    "### Question 5b\n",
    "\n",
    "What can you observe from the plot?  Hypothesize about the meaning of the peaks in the registered riders' distribution."
   ]
  },
  {
   "cell_type": "markdown",
   "metadata": {
    "deletable": false,
    "nbgrader": {
     "cell_type": "markdown",
     "checksum": "be63bfbd988a0e1e7990faa83ea43b74",
     "grade": true,
     "grade_id": "q5b-answer",
     "locked": false,
     "points": 2,
     "schema_version": 2,
     "solution": true
    },
    "tags": [
     "solution",
     "written"
    ]
   },
   "source": [
    "YOUR ANSWER HERE"
   ]
  },
  {
   "cell_type": "markdown",
   "metadata": {
    "deletable": false,
    "editable": false,
    "nbgrader": {
     "cell_type": "markdown",
     "checksum": "d2cd4359ba0ea3b3c77768c311357c68",
     "grade": false,
     "grade_id": "q6a",
     "locked": true,
     "schema_version": 2,
     "solution": false
    }
   },
   "source": [
    "## 6. Exploring Ride Sharing and Weather\n",
    "Now let's examine how the weather is affecting rider's behavior. First let's look at how the proportion of casual riders changes as weather changes.\n",
    "\n",
    "### Question 6a\n",
    "Create a new column `prop_casual` in the `bike` dataframe representing the proportion of casual riders out of all riders."
   ]
  },
  {
   "cell_type": "code",
   "execution_count": null,
   "metadata": {
    "deletable": false,
    "nbgrader": {
     "cell_type": "code",
     "checksum": "5b9a64921084a2823a20d68435937710",
     "grade": false,
     "grade_id": "q6a-answer",
     "locked": false,
     "schema_version": 2,
     "solution": true
    },
    "tags": [
     "student"
    ]
   },
   "outputs": [],
   "source": [
    "...\n",
    "\n",
    "# YOUR CODE HERE\n",
    "raise NotImplementedError()"
   ]
  },
  {
   "cell_type": "code",
   "execution_count": null,
   "metadata": {
    "deletable": false,
    "editable": false,
    "nbgrader": {
     "cell_type": "code",
     "checksum": "dcfec4b51bb7aa194d1393ea4e40af34",
     "grade": true,
     "grade_id": "q6a-tests",
     "locked": true,
     "points": 1,
     "schema_version": 2,
     "solution": false
    },
    "tags": [
     "solution"
    ]
   },
   "outputs": [],
   "source": [
    "assert int(bike[\"prop_casual\"].sum()) == 2991\n",
    "\n",
    "### BEGIN HIDDEN TEST\n",
    "assert np.round(bike[\"prop_casual\"].mean(), 2) == 0.17\n",
    "### END HIDDEN TEST"
   ]
  },
  {
   "cell_type": "markdown",
   "metadata": {
    "deletable": false,
    "editable": false,
    "nbgrader": {
     "cell_type": "markdown",
     "checksum": "db52c1002bcc91f87c86716b51984149",
     "grade": false,
     "grade_id": "q6b",
     "locked": true,
     "schema_version": 2,
     "solution": false
    }
   },
   "source": [
    "### Question 6b\n",
    "In order to examine the relationship between proportion of casual riders and temerature, we can make some bivariate scatterplot using `sns.lmplot`. We can even use color/hue to encode the information about day of week. Run the following cells to create such plots. (The plot contains many points, so it may take a while to render)"
   ]
  },
  {
   "cell_type": "code",
   "execution_count": null,
   "metadata": {
    "deletable": false,
    "editable": false,
    "nbgrader": {
     "cell_type": "code",
     "checksum": "9e957961504a1019deccd07209a0a74d",
     "grade": false,
     "grade_id": "q6b-lmplot",
     "locked": true,
     "schema_version": 2,
     "solution": false
    }
   },
   "outputs": [],
   "source": [
    "sns.lmplot(data=bike, x=\"temp\", y=\"prop_casual\", hue=\"weekday\", scatter_kws={\"s\": 20}, size=10)"
   ]
  },
  {
   "cell_type": "markdown",
   "metadata": {
    "deletable": false,
    "editable": false,
    "nbgrader": {
     "cell_type": "markdown",
     "checksum": "0420093dc053b677d8a8c28f0ec7e8de",
     "grade": false,
     "grade_id": "q6b-lowess-plot",
     "locked": true,
     "schema_version": 2,
     "solution": false
    }
   },
   "source": [
    "As you can see from the scatterplot, many points are overlapping. Though the plot can show some trends, it would be hard to verify your findings. Therefore we could fit some curves to summarize the data and plot the curves instead.\n",
    "\n",
    "Basically you will need to make a plot like this: Fit and plot curves using data from different weekdays. \n",
    "\n",
    "<img src=\"images/curveplot_temp_prop_casual.png\" width=\"600px\" />\n",
    "\n",
    "You will need to use the function [`statsmodels.nonparametric.smoothers_lowess.lowess`](http://www.statsmodels.org/dev/generated/statsmodels.nonparametric.smoothers_lowess.lowess.html) to fit a curve from two sequences `x` and `y`. An example on a random data set is given below.\n",
    "\n"
   ]
  },
  {
   "cell_type": "code",
   "execution_count": null,
   "metadata": {},
   "outputs": [],
   "source": [
    "from statsmodels.nonparametric.smoothers_lowess import lowess\n",
    "# Make noisy data\n",
    "xobs = np.sort(np.random.rand(100)*4.0 - 2)\n",
    "yobs = np.exp(xobs) + np.random.randn(100) / 2.0\n",
    "plt.plot(xobs, yobs, 'o', label=\"Raw Data\")\n",
    "\n",
    "# Predict 'smoothed' valued for observations\n",
    "ysmooth = lowess(yobs, xobs, return_sorted=False)\n",
    "plt.plot(xobs, ysmooth, 'r-', label=\"Smoothed Estimator\")\n",
    "plt.legend()"
   ]
  },
  {
   "cell_type": "code",
   "execution_count": null,
   "metadata": {
    "deletable": false,
    "nbgrader": {
     "cell_type": "code",
     "checksum": "a8dc4df76d1869bf3f1c905d01246841",
     "grade": true,
     "grade_id": "q6b-answer",
     "locked": false,
     "points": 3,
     "schema_version": 2,
     "solution": true
    },
    "tags": [
     "student",
     "written"
    ]
   },
   "outputs": [],
   "source": [
    "# Reproduce the lowess plot for the bike data here\n",
    "...\n",
    "\n",
    "# YOUR CODE HERE\n",
    "raise NotImplementedError()"
   ]
  },
  {
   "cell_type": "markdown",
   "metadata": {
    "deletable": false,
    "editable": false,
    "nbgrader": {
     "cell_type": "markdown",
     "checksum": "91fb6f589966f7e8d998a3c13edc56aa",
     "grade": false,
     "grade_id": "q6c",
     "locked": true,
     "schema_version": 2,
     "solution": false
    }
   },
   "source": [
    "### Question 6c\n",
    "What can you discover from the curve plot? How is the `prop_casual` changing as a function of temperature?"
   ]
  },
  {
   "cell_type": "markdown",
   "metadata": {
    "deletable": false,
    "nbgrader": {
     "cell_type": "markdown",
     "checksum": "6f1bc62fd023c5cdcb874857884d980f",
     "grade": true,
     "grade_id": "q6c-answer",
     "locked": false,
     "points": 2,
     "schema_version": 2,
     "solution": true
    },
    "tags": [
     "student",
     "written"
    ]
   },
   "source": [
    "YOUR ANSWER HERE"
   ]
  },
  {
   "cell_type": "markdown",
   "metadata": {
    "deletable": false,
    "editable": false,
    "nbgrader": {
     "cell_type": "markdown",
     "checksum": "3552f65059aee2bcd12ce742f1f79e99",
     "grade": false,
     "grade_id": "farewell-hw3",
     "locked": true,
     "schema_version": 2,
     "solution": false
    }
   },
   "source": [
    "# Submission\n",
    "\n",
    "You're done!\n",
    "\n",
    "In order to turn in this assignment, submit this notebook to the Data 100 datahub at http://data100.datahub.berkeley.edu. \n",
    "\n",
    "You will need to upload this notebook and any associated files to datahub manually if you have completed this assignment on your local machine. Detailed instructions for how to submit on Datahub can be found at http://www.ds100.org/sp18/materials.\n",
    "\n",
    "Remember to click 'Validate' for this assignment before submitting. After clicking 'Submit', you can verify there is a time-stamped submission under 'Submitted assignments'."
   ]
  }
 ],
 "metadata": {
  "kernelspec": {
   "display_name": "Python 3",
   "language": "python",
   "name": "python3"
  },
  "language_info": {
   "codemirror_mode": {
    "name": "ipython",
    "version": 3
   },
   "file_extension": ".py",
   "mimetype": "text/x-python",
   "name": "python",
   "nbconvert_exporter": "python",
   "pygments_lexer": "ipython3",
   "version": "3.6.4"
  }
 },
 "nbformat": 4,
 "nbformat_minor": 2
}
