{
 "cells": [
  {
   "cell_type": "markdown",
   "metadata": {},
   "source": [
    "This HW focuses exclusively on making pictures.\n",
    "\n",
    "**Goals**\n",
    "1. Plot distributions for a single variable\n",
    "    1. Histogram\n",
    "    2. kernel density curve\n",
    "1. Plot distributions for multiple variables\n",
    "    1. Box and whisker\n",
    "    2. violin plots\n",
    "2. Basic scatter plots\n",
    "3. Plotting relationship between more than two variables\n",
    "    1. Colored scatter plot, where color corresponds to a colormap for a third variable\n",
    "    2. Heat maps, where color is the value of a third variable (z-axis).  Easiest here would be a density plot for a 2-dimensional distribution.\n",
    "4. Throughout, challenge students to clearly explain plots with legends, axis labels and titles\n",
    "    5. Develop understanding of the right font size for these things -- not too big, not too small\n",
    "    5. This could be done with \"canned\" figures where students decide which looks best.  \n",
    "5. Data transformation - log transform in particular\n",
    "6. Adding context with text labels and arrows in plots\n",
    "\n",
    "**Specific outline**\n",
    "1. Do some simple plotting exercises -- trig functions, for example -- to get students comfortable with the idea \n",
    "    1. creating axes, \n",
    "    2. subplots, \n",
    "    3. Labeling axes \n",
    "    4. Adjusting font sizes\n",
    "    5. Etc\n",
    "1. Next, students add energy data from world bank.  (We will be looking at these data along with the HDI measures from the last HW.)\n",
    "    1. Electricity access data: https://data.worldbank.org/indicator/EG.ELC.ACCS.ZS\n",
    "    2. Total energy consumption data: https://data.worldbank.org/indicator/EG.USE.PCAP.KG.OE\n",
    "    3. Electricity consumption data: https://data.worldbank.org/indicator/EG.USE.ELEC.KH.PC\n",
    "2. Do some visual EDA with the new data\n",
    "    1. Histograms of average electricty access rates:\n",
    "        1. For individual countries (the histogram will be much too crowded)\n",
    "        2. By world bank region (Europe and Central Asia; South Asia; Latin America and Carribean, etc.  See [here](http://databank.worldbank.org/data/download/site-content/CLASS.xls).). \n",
    "    2. Kernel density plots of electricity access rates.  Explore why these density plots look different. \n",
    "        2. For individual countries.  Adjust the smoothing window to see different features in the density plot.\n",
    "        3. For averages by world bank region. \n",
    "    3. For the histograms and density plots above, have students talk about the pros and cons of interpreting data using each style of plot.  \n",
    "    2. Box and whisker plots showing the distribution of electricity access rates by region.  Have students adjust the location of the whiskers.  Have them comment on what new things they learn from this plot versus the earlier ones. \n",
    "    3. Box and whiskers for \n",
    "        3. energy consumption, by region\n",
    "        3. electricity consumption, by region.\n",
    "        4. Talk about how these differ and why.  \n",
    "1. Scatter plots\n",
    "    2. Electricity consumption versus electricity access.  \n",
    "        2. Have students comment on the relationship. \n",
    "        2. Discuss casuality.  Here, we can say that access has a causal effect on consumption, by virtue of the fact that consumption is impossible without access.\n",
    "            1. But what other factors could be affecting consumption?  Reliability, income, and so forth.  \n",
    "    2. Electricity consumption versus electricity access, with dots colored by region of world\n",
    "        1. Have students try different color palettes and comment on which they like best and why.\n",
    "    3. HDI versus electricity consumption.  \n",
    "        4. Have students comment on causal nature of the relationship\n",
    "        4. Have them suggest a way to make the figure more informative (\n",
    "        4. Have them create text labels identifying outliers\n"
   ]
  },
  {
   "cell_type": "markdown",
   "metadata": {},
   "source": []
  }
 ],
 "metadata": {
  "kernelspec": {
   "display_name": "Python 3",
   "language": "python",
   "name": "python3"
  },
  "language_info": {
   "codemirror_mode": {
    "name": "ipython",
    "version": 3
   },
   "file_extension": ".py",
   "mimetype": "text/x-python",
   "name": "python",
   "nbconvert_exporter": "python",
   "pygments_lexer": "ipython3",
   "version": "3.6.4"
  }
 },
 "nbformat": 4,
 "nbformat_minor": 2
}
