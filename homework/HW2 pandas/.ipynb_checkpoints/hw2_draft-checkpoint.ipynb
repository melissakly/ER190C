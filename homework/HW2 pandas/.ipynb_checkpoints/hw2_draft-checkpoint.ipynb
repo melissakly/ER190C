{
 "cells": [
  {
   "cell_type": "code",
   "execution_count": 1,
   "metadata": {},
   "outputs": [
    {
     "data": {
      "text/html": [
       "<style>div.dsc { background-color: #fcf2f2;border-color: #dFb5b4; border-left: 5px solid #dfb5b4; padding: 0.5em;}</style>"
      ],
      "text/plain": [
       "<IPython.core.display.HTML object>"
      ]
     },
     "execution_count": 1,
     "metadata": {},
     "output_type": "execute_result"
    }
   ],
   "source": [
    "from IPython.display import HTML\n",
    "style = \"<style>div.dsc { background-color: #fcf2f2;border-color: #dFb5b4; border-left: 5px solid #dfb5b4; padding: 0.5em;}</style>\"\n",
    "HTML(style)"
   ]
  },
  {
   "cell_type": "markdown",
   "metadata": {},
   "source": [
    "<div class=\"dsc\">\n",
    "For this HW we'll work with air quality data from the EPA.</div>\n",
    "\n",
    "1. First, download data.  [Here is the site](https://aqs.epa.gov/aqsweb/airdata/download_files.html).\n",
    "\n",
    "A description of the data is [here](https://aqs.epa.gov/aqsweb/airdata/FileFormats.html#_hourly_data_files)\n",
    "\n",
    "To download the data, use a link like this:\n",
    "\n",
    "https://aqs.epa.gov/aqsweb/airdata/hourly_TYPE_YEAR.zip\n",
    "\n",
    "...where \"TYPE\" is the measurement you want and \"YEAR\" is the year.\n",
    "\n",
    "**Measurement | (TYPE)**  \n",
    "Ozone | (44201)  \n",
    "SO2 | (42401)  \n",
    "CO | (42101)  \n",
    "NO2 | (42602)  \n",
    "PM2.5 FRM/FEM Mass | (88101)  \n",
    "PM2.5 non FRM/FEM Mass | (88502)  \n",
    "PM10 Mass | (81102)  \n",
    "PM2.5 Speciation | (SPEC)  \n",
    "PM10 Speciation | (PM10SPEC)\n",
    "\n",
    "See example below.  We'll focus on PM2.5 Mass (88101) in the problem set.\n",
    "\n",
    "2. Next, use load it into a data frame.  See part 2 below.  \n",
    "\n",
    "3. ...but then I'd like to focus on some simple things that one would do with pandas, namely:\n",
    "    1. Retreive column and index names\n",
    "    2. Use .loc and .iloc\n",
    "    3. Change index names\n",
    "    4. Add columns\n",
    "    0. Deal with missing data\n",
    "    0. Change data shape (pivot tables)\n",
    "    0. A few basic numeric operations -- mean and variance of the numbers, e.g., along each axis.\n",
    "    6. Merge data sets\n",
    "\n",
    "<div class=\"dsc\">Compared to DS100 I'd like more hand-holding on these problem sets.  And the amount of work should be 50-75% of what was in the DS100 </div>"
   ]
  },
  {
   "cell_type": "markdown",
   "metadata": {},
   "source": [
    "# 1. Download data"
   ]
  },
  {
   "cell_type": "code",
   "execution_count": 6,
   "metadata": {},
   "outputs": [],
   "source": [
    "import requests\n",
    "from pathlib import Path"
   ]
  },
  {
   "cell_type": "code",
   "execution_count": 14,
   "metadata": {},
   "outputs": [],
   "source": [
    "hourly_daily = 'hourly'\n",
    "typ = 88101\n",
    "year = 2017\n",
    "variable = 'PM25' + '_' + str(typ)+ '_' + str(year)\n",
    "airquality_url = 'https://aqs.epa.gov/aqsweb/airdata/' + hourly_daily + '_' + str(typ) + '_' + str(year) + '.zip'\n",
    "airquality_path = Path(variable+'.zip')"
   ]
  },
  {
   "cell_type": "code",
   "execution_count": 15,
   "metadata": {},
   "outputs": [],
   "source": [
    "if not airquality_path.exists():\n",
    "    print('Downloading...', end=' ')\n",
    "    airquality_data = requests.get(airquality_url)\n",
    "    with airquality_path.open('wb') as f:\n",
    "        f.write(airquality_data.content)\n",
    "    print('Done!')"
   ]
  },
  {
   "cell_type": "code",
   "execution_count": 16,
   "metadata": {},
   "outputs": [
    {
     "name": "stdout",
     "output_type": "stream",
     "text": [
      "['hourly_88101_2017.csv']\n"
     ]
    }
   ],
   "source": [
    "import zipfile\n",
    "zf = zipfile.ZipFile(airquality_path, 'r')\n",
    "print([f.filename for f in zf.filelist])"
   ]
  },
  {
   "cell_type": "code",
   "execution_count": 21,
   "metadata": {},
   "outputs": [
    {
     "name": "stdout",
     "output_type": "stream",
     "text": [
      "\"State Code\",\"County Code\",\"Site Num\",\"Parameter Code\",\"POC\",\"Latitude\",\"Longitude\",\"Datum\",\"Parameter Name\",\"Date Local\",\"Time Local\",\"Date GMT\",\"Time GMT\",\"Sample Measurement\",\"Units of Measure\",\"MDL\",\"Uncertainty\",\"Qualifier\",\"Method Type\",\"Method Code\",\"Method Name\",\"State Name\",\"County Name\",\"Date of Last Change\"\n",
      "\"01\",\"073\",\"0023\",\"88101\",3,33.553056,-86.815,\"WGS84\",\"PM2.5 - Local Conditions\",\"2017-01-01\",\"00:00\",\"2017-01-01\",\"06:00\",2.3000000000000003,\"Micrograms/cubic meter (LC)\",2,\"\",\"\",\"FEM\",\"183\",\"Thermo Scientific 5014i or FH62C14-DHS w/VSCC - Beta Attenuation\",\"Alabama\",\"Jefferson\",\"2017-04-19\"\n"
     ]
    }
   ],
   "source": [
    "f_name = 'hourly_88101_2017.csv'\n",
    "with zf.open(f_name) as f:\n",
    "    for i in range(2):\n",
    "        print(f.readline().rstrip().decode())"
   ]
  },
  {
   "cell_type": "markdown",
   "metadata": {},
   "source": [
    "# 2. Unzip and load into data frame."
   ]
  },
  {
   "cell_type": "markdown",
   "metadata": {},
   "source": [
    "Ok, looks like a pretty descriptive header, and in fact these are explained in detail in the documentation at the url listed at the top of this notebook.  Let's extract it.  I'm going to pretend there are multiple files in the zip file, and keep using `zf` to get it out.  \n",
    "\n",
    "Also in this section I'll pull just the California data to make it more manageable. "
   ]
  },
  {
   "cell_type": "code",
   "execution_count": 24,
   "metadata": {},
   "outputs": [
    {
     "data": {
      "text/html": [
       "<div>\n",
       "<style scoped>\n",
       "    .dataframe tbody tr th:only-of-type {\n",
       "        vertical-align: middle;\n",
       "    }\n",
       "\n",
       "    .dataframe tbody tr th {\n",
       "        vertical-align: top;\n",
       "    }\n",
       "\n",
       "    .dataframe thead th {\n",
       "        text-align: right;\n",
       "    }\n",
       "</style>\n",
       "<table border=\"1\" class=\"dataframe\">\n",
       "  <thead>\n",
       "    <tr style=\"text-align: right;\">\n",
       "      <th></th>\n",
       "      <th>State Code</th>\n",
       "      <th>County Code</th>\n",
       "      <th>Site Num</th>\n",
       "      <th>Parameter Code</th>\n",
       "      <th>POC</th>\n",
       "      <th>Latitude</th>\n",
       "      <th>Longitude</th>\n",
       "      <th>Datum</th>\n",
       "      <th>Parameter Name</th>\n",
       "      <th>Date Local</th>\n",
       "      <th>...</th>\n",
       "      <th>Units of Measure</th>\n",
       "      <th>MDL</th>\n",
       "      <th>Uncertainty</th>\n",
       "      <th>Qualifier</th>\n",
       "      <th>Method Type</th>\n",
       "      <th>Method Code</th>\n",
       "      <th>Method Name</th>\n",
       "      <th>State Name</th>\n",
       "      <th>County Name</th>\n",
       "      <th>Date of Last Change</th>\n",
       "    </tr>\n",
       "  </thead>\n",
       "  <tbody>\n",
       "    <tr>\n",
       "      <th>0</th>\n",
       "      <td>1</td>\n",
       "      <td>73</td>\n",
       "      <td>23</td>\n",
       "      <td>88101</td>\n",
       "      <td>3</td>\n",
       "      <td>33.553056</td>\n",
       "      <td>-86.815</td>\n",
       "      <td>WGS84</td>\n",
       "      <td>PM2.5 - Local Conditions</td>\n",
       "      <td>2017-01-01</td>\n",
       "      <td>...</td>\n",
       "      <td>Micrograms/cubic meter (LC)</td>\n",
       "      <td>2.0</td>\n",
       "      <td>NaN</td>\n",
       "      <td>NaN</td>\n",
       "      <td>FEM</td>\n",
       "      <td>183</td>\n",
       "      <td>Thermo Scientific 5014i or FH62C14-DHS w/VSCC ...</td>\n",
       "      <td>Alabama</td>\n",
       "      <td>Jefferson</td>\n",
       "      <td>2017-04-19</td>\n",
       "    </tr>\n",
       "    <tr>\n",
       "      <th>1</th>\n",
       "      <td>1</td>\n",
       "      <td>73</td>\n",
       "      <td>23</td>\n",
       "      <td>88101</td>\n",
       "      <td>3</td>\n",
       "      <td>33.553056</td>\n",
       "      <td>-86.815</td>\n",
       "      <td>WGS84</td>\n",
       "      <td>PM2.5 - Local Conditions</td>\n",
       "      <td>2017-01-01</td>\n",
       "      <td>...</td>\n",
       "      <td>Micrograms/cubic meter (LC)</td>\n",
       "      <td>2.0</td>\n",
       "      <td>NaN</td>\n",
       "      <td>NaN</td>\n",
       "      <td>FEM</td>\n",
       "      <td>183</td>\n",
       "      <td>Thermo Scientific 5014i or FH62C14-DHS w/VSCC ...</td>\n",
       "      <td>Alabama</td>\n",
       "      <td>Jefferson</td>\n",
       "      <td>2017-04-19</td>\n",
       "    </tr>\n",
       "    <tr>\n",
       "      <th>2</th>\n",
       "      <td>1</td>\n",
       "      <td>73</td>\n",
       "      <td>23</td>\n",
       "      <td>88101</td>\n",
       "      <td>3</td>\n",
       "      <td>33.553056</td>\n",
       "      <td>-86.815</td>\n",
       "      <td>WGS84</td>\n",
       "      <td>PM2.5 - Local Conditions</td>\n",
       "      <td>2017-01-01</td>\n",
       "      <td>...</td>\n",
       "      <td>Micrograms/cubic meter (LC)</td>\n",
       "      <td>2.0</td>\n",
       "      <td>NaN</td>\n",
       "      <td>NaN</td>\n",
       "      <td>FEM</td>\n",
       "      <td>183</td>\n",
       "      <td>Thermo Scientific 5014i or FH62C14-DHS w/VSCC ...</td>\n",
       "      <td>Alabama</td>\n",
       "      <td>Jefferson</td>\n",
       "      <td>2017-04-19</td>\n",
       "    </tr>\n",
       "    <tr>\n",
       "      <th>3</th>\n",
       "      <td>1</td>\n",
       "      <td>73</td>\n",
       "      <td>23</td>\n",
       "      <td>88101</td>\n",
       "      <td>3</td>\n",
       "      <td>33.553056</td>\n",
       "      <td>-86.815</td>\n",
       "      <td>WGS84</td>\n",
       "      <td>PM2.5 - Local Conditions</td>\n",
       "      <td>2017-01-01</td>\n",
       "      <td>...</td>\n",
       "      <td>Micrograms/cubic meter (LC)</td>\n",
       "      <td>2.0</td>\n",
       "      <td>NaN</td>\n",
       "      <td>NaN</td>\n",
       "      <td>FEM</td>\n",
       "      <td>183</td>\n",
       "      <td>Thermo Scientific 5014i or FH62C14-DHS w/VSCC ...</td>\n",
       "      <td>Alabama</td>\n",
       "      <td>Jefferson</td>\n",
       "      <td>2017-04-19</td>\n",
       "    </tr>\n",
       "    <tr>\n",
       "      <th>4</th>\n",
       "      <td>1</td>\n",
       "      <td>73</td>\n",
       "      <td>23</td>\n",
       "      <td>88101</td>\n",
       "      <td>3</td>\n",
       "      <td>33.553056</td>\n",
       "      <td>-86.815</td>\n",
       "      <td>WGS84</td>\n",
       "      <td>PM2.5 - Local Conditions</td>\n",
       "      <td>2017-01-01</td>\n",
       "      <td>...</td>\n",
       "      <td>Micrograms/cubic meter (LC)</td>\n",
       "      <td>2.0</td>\n",
       "      <td>NaN</td>\n",
       "      <td>NaN</td>\n",
       "      <td>FEM</td>\n",
       "      <td>183</td>\n",
       "      <td>Thermo Scientific 5014i or FH62C14-DHS w/VSCC ...</td>\n",
       "      <td>Alabama</td>\n",
       "      <td>Jefferson</td>\n",
       "      <td>2017-04-19</td>\n",
       "    </tr>\n",
       "  </tbody>\n",
       "</table>\n",
       "<p>5 rows × 24 columns</p>\n",
       "</div>"
      ],
      "text/plain": [
       "   State Code  County Code  Site Num  Parameter Code  POC   Latitude  \\\n",
       "0           1           73        23           88101    3  33.553056   \n",
       "1           1           73        23           88101    3  33.553056   \n",
       "2           1           73        23           88101    3  33.553056   \n",
       "3           1           73        23           88101    3  33.553056   \n",
       "4           1           73        23           88101    3  33.553056   \n",
       "\n",
       "   Longitude  Datum            Parameter Name  Date Local  \\\n",
       "0    -86.815  WGS84  PM2.5 - Local Conditions  2017-01-01   \n",
       "1    -86.815  WGS84  PM2.5 - Local Conditions  2017-01-01   \n",
       "2    -86.815  WGS84  PM2.5 - Local Conditions  2017-01-01   \n",
       "3    -86.815  WGS84  PM2.5 - Local Conditions  2017-01-01   \n",
       "4    -86.815  WGS84  PM2.5 - Local Conditions  2017-01-01   \n",
       "\n",
       "          ...                      Units of Measure  MDL Uncertainty  \\\n",
       "0         ...           Micrograms/cubic meter (LC)  2.0         NaN   \n",
       "1         ...           Micrograms/cubic meter (LC)  2.0         NaN   \n",
       "2         ...           Micrograms/cubic meter (LC)  2.0         NaN   \n",
       "3         ...           Micrograms/cubic meter (LC)  2.0         NaN   \n",
       "4         ...           Micrograms/cubic meter (LC)  2.0         NaN   \n",
       "\n",
       "   Qualifier Method Type  Method Code  \\\n",
       "0        NaN         FEM          183   \n",
       "1        NaN         FEM          183   \n",
       "2        NaN         FEM          183   \n",
       "3        NaN         FEM          183   \n",
       "4        NaN         FEM          183   \n",
       "\n",
       "                                         Method Name State Name County Name  \\\n",
       "0  Thermo Scientific 5014i or FH62C14-DHS w/VSCC ...    Alabama   Jefferson   \n",
       "1  Thermo Scientific 5014i or FH62C14-DHS w/VSCC ...    Alabama   Jefferson   \n",
       "2  Thermo Scientific 5014i or FH62C14-DHS w/VSCC ...    Alabama   Jefferson   \n",
       "3  Thermo Scientific 5014i or FH62C14-DHS w/VSCC ...    Alabama   Jefferson   \n",
       "4  Thermo Scientific 5014i or FH62C14-DHS w/VSCC ...    Alabama   Jefferson   \n",
       "\n",
       "   Date of Last Change  \n",
       "0           2017-04-19  \n",
       "1           2017-04-19  \n",
       "2           2017-04-19  \n",
       "3           2017-04-19  \n",
       "4           2017-04-19  \n",
       "\n",
       "[5 rows x 24 columns]"
      ]
     },
     "execution_count": 24,
     "metadata": {},
     "output_type": "execute_result"
    }
   ],
   "source": [
    "import pandas as pd\n",
    "with zf.open(f_name) as fh:\n",
    "    PM25_2017 = pd.read_csv(fh, low_memory=False)\n",
    "PM25_2017.head()"
   ]
  },
  {
   "cell_type": "code",
   "execution_count": 26,
   "metadata": {},
   "outputs": [
    {
     "data": {
      "text/plain": [
       "(4155017, 24)"
      ]
     },
     "execution_count": 26,
     "metadata": {},
     "output_type": "execute_result"
    }
   ],
   "source": [
    "PM25_2017.shape"
   ]
  },
  {
   "cell_type": "code",
   "execution_count": 27,
   "metadata": {},
   "outputs": [
    {
     "data": {
      "text/plain": [
       "array(['Alabama', 'Alaska', 'Arizona', 'California', 'Colorado',\n",
       "       'Connecticut', 'Delaware', 'District Of Columbia', 'Florida',\n",
       "       'Georgia', 'Hawaii', 'Idaho', 'Illinois', 'Indiana', 'Iowa',\n",
       "       'Kansas', 'Kentucky', 'Louisiana', 'Maine', 'Maryland',\n",
       "       'Massachusetts', 'Michigan', 'Minnesota', 'Mississippi',\n",
       "       'Missouri', 'Montana', 'Nebraska', 'Nevada', 'New Hampshire',\n",
       "       'New Jersey', 'New Mexico', 'New York', 'North Carolina',\n",
       "       'North Dakota', 'Ohio', 'Oklahoma', 'Pennsylvania', 'Rhode Island',\n",
       "       'South Carolina', 'South Dakota', 'Tennessee', 'Texas', 'Utah',\n",
       "       'Vermont', 'Virginia', 'Washington', 'West Virginia', 'Wisconsin',\n",
       "       'Wyoming', 'Puerto Rico', 'Country Of Mexico'], dtype=object)"
      ]
     },
     "execution_count": 27,
     "metadata": {},
     "output_type": "execute_result"
    }
   ],
   "source": [
    "pd.unique(PM25_2017['State Name'])"
   ]
  },
  {
   "cell_type": "code",
   "execution_count": 33,
   "metadata": {},
   "outputs": [],
   "source": [
    "bool = PM25_2017['State Name'] == 'California'\n",
    "PM25_2017_CA = PM25_2017[bool]\n",
    "PM25_2017_CA.shape"
   ]
  }
 ],
 "metadata": {
  "anaconda-cloud": {},
  "kernelspec": {
   "display_name": "Python 3",
   "language": "python",
   "name": "python3"
  },
  "language_info": {
   "codemirror_mode": {
    "name": "ipython",
    "version": 3
   },
   "file_extension": ".py",
   "mimetype": "text/x-python",
   "name": "python",
   "nbconvert_exporter": "python",
   "pygments_lexer": "ipython3",
   "version": "3.6.4"
  }
 },
 "nbformat": 4,
 "nbformat_minor": 2
}
